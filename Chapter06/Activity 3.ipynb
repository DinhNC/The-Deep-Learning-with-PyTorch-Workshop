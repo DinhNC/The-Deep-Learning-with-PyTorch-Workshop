{
 "cells": [
  {
   "cell_type": "code",
   "execution_count": 1,
   "metadata": {},
   "outputs": [
    {
     "data": {
      "text/plain": [
       "<torch._C.Generator at 0x1277f7630>"
      ]
     },
     "execution_count": 1,
     "metadata": {},
     "output_type": "execute_result"
    }
   ],
   "source": [
    "import pandas as pd\n",
    "import numpy as np\n",
    "import matplotlib.pyplot as plt\n",
    "from string import punctuation\n",
    "from sklearn.metrics import accuracy_score\n",
    "import torch\n",
    "from torch import nn, optim\n",
    "import torch.nn.functional as F\n",
    "torch.manual_seed(0)"
   ]
  },
  {
   "cell_type": "code",
   "execution_count": 2,
   "metadata": {},
   "outputs": [],
   "source": [
    "data = pd.read_csv(\"amazon_cells_labelled.txt\", sep=\"\\t\", header=None)\n",
    "reviews = data.iloc[:,0].str.lower()\n",
    "sentiment = data.iloc[:,1].values"
   ]
  },
  {
   "cell_type": "code",
   "execution_count": 3,
   "metadata": {},
   "outputs": [],
   "source": [
    "for i in punctuation:\n",
    "    reviews = reviews.str.replace(i,\"\")"
   ]
  },
  {
   "cell_type": "code",
   "execution_count": 4,
   "metadata": {},
   "outputs": [],
   "source": [
    "words = ' '.join(reviews)\n",
    "words = words.split()\n",
    "vocabulary = set(words)\n",
    "indexer = {word: index for (index, word) in enumerate(vocabulary)}"
   ]
  },
  {
   "cell_type": "code",
   "execution_count": 5,
   "metadata": {},
   "outputs": [],
   "source": [
    "indexed_reviews = []\n",
    "for review in reviews:\n",
    "    indexed_reviews.append([indexer[word] for word in review.split()])"
   ]
  },
  {
   "cell_type": "code",
   "execution_count": 6,
   "metadata": {},
   "outputs": [],
   "source": [
    "class LSTM(nn.Module):\n",
    "    def __init__(self, vocab_size, embed_dim, hidden_size, n_layers):\n",
    "        super().__init__()\n",
    "        self.hidden_size = hidden_size\n",
    "        self.embedding = nn.Embedding(vocab_size, embed_dim)\n",
    "        self.lstm = nn.LSTM(embed_dim, hidden_size, n_layers, batch_first=True)\n",
    "        self.output = nn.Linear(hidden_size, 1)\n",
    "        \n",
    "    def forward(self, x):\n",
    "        out = self.embedding(x)\n",
    "        out, _ = self.lstm(out)\n",
    "        out = out.contiguous().view(-1, self.hidden_size)\n",
    "        out = self.output(out)\n",
    "        out = out[-1,0]\n",
    "        out = torch.sigmoid(out).unsqueeze(0)\n",
    "        \n",
    "        return out"
   ]
  },
  {
   "cell_type": "code",
   "execution_count": 7,
   "metadata": {},
   "outputs": [
    {
     "data": {
      "text/plain": [
       "LSTM(\n",
       "  (embedding): Embedding(1905, 64)\n",
       "  (lstm): LSTM(64, 128, num_layers=3, batch_first=True)\n",
       "  (output): Linear(in_features=128, out_features=1, bias=True)\n",
       ")"
      ]
     },
     "execution_count": 7,
     "metadata": {},
     "output_type": "execute_result"
    }
   ],
   "source": [
    "model = LSTM(len(vocabulary), 64, 128, 3)\n",
    "model"
   ]
  },
  {
   "cell_type": "code",
   "execution_count": 8,
   "metadata": {},
   "outputs": [],
   "source": [
    "loss_function = nn.BCELoss()\n",
    "optimizer = optim.Adam(model.parameters(), lr=0.001)\n",
    "epochs = 10"
   ]
  },
  {
   "cell_type": "code",
   "execution_count": 9,
   "metadata": {},
   "outputs": [
    {
     "name": "stdout",
     "output_type": "stream",
     "text": [
      "Epoch:  1 ... Loss function:  0.6439482689792032 ... Accuracy:  0.6348088531187123\n",
      "Epoch:  2 ... Loss function:  0.5093861570238872 ... Accuracy:  0.7665995975855131\n",
      "Epoch:  3 ... Loss function:  0.3903406235763955 ... Accuracy:  0.8279678068410463\n",
      "Epoch:  4 ... Loss function:  0.26904681338652825 ... Accuracy:  0.8943661971830986\n",
      "Epoch:  5 ... Loss function:  0.2092834912022285 ... Accuracy:  0.9245472837022133\n",
      "Epoch:  6 ... Loss function:  0.10638178071100593 ... Accuracy:  0.9647887323943662\n",
      "Epoch:  7 ... Loss function:  0.08006069974272582 ... Accuracy:  0.9708249496981891\n",
      "Epoch:  8 ... Loss function:  0.04622537223911521 ... Accuracy:  0.9869215291750503\n",
      "Epoch:  9 ... Loss function:  0.03887702384875427 ... Accuracy:  0.9879275653923542\n",
      "Epoch:  10 ... Loss function:  0.018738836668080055 ... Accuracy:  0.9919517102615694\n"
     ]
    }
   ],
   "source": [
    "losses = []\n",
    "acc = []\n",
    "for e in range(1, epochs+1):\n",
    "    single_loss = []\n",
    "    preds = []\n",
    "    targets = []\n",
    "    for i, r in enumerate(indexed_reviews):\n",
    "        if len(r) <= 1:\n",
    "            continue\n",
    "        x = torch.Tensor([r]).long()\n",
    "        y = torch.Tensor([sentiment[i]])\n",
    "    \n",
    "        pred = model(x)\n",
    "        loss = loss_function(pred, y)\n",
    "        optimizer.zero_grad()\n",
    "        loss.backward()\n",
    "        optimizer.step()\n",
    "    \n",
    "        final_pred = np.round(pred.detach().numpy())\n",
    "        preds.append(final_pred)\n",
    "        targets.append(y)\n",
    "        single_loss.append(loss.item())\n",
    "        \n",
    "    losses.append(np.mean(single_loss))\n",
    "    accuracy = accuracy_score(targets,preds)\n",
    "    acc.append(accuracy)\n",
    "    if e%1 == 0:\n",
    "        print(\"Epoch: \", e, \"... Loss function: \", losses[-1], \"... Accuracy: \", acc[-1])"
   ]
  },
  {
   "cell_type": "code",
   "execution_count": 10,
   "metadata": {},
   "outputs": [
    {
     "data": {
      "image/png": "[encoded data removed]",
      "text/plain": [
       "<Figure size 432x288 with 1 Axes>"
      ]
     },
     "metadata": {
      "needs_background": "light"
     },
     "output_type": "display_data"
    }
   ],
   "source": [
    "x_range = range(len(losses))\n",
    "plt.plot(x_range, losses)\n",
    "plt.xlabel(\"epochs\")\n",
    "plt.ylabel(\"Loss function\")\n",
    "plt.show()"
   ]
  },
  {
   "cell_type": "code",
   "execution_count": 11,
   "metadata": {},
   "outputs": [
    {
     "data": {
      "image/png": "[encoded data removed]",
      "text/plain": [
       "<Figure size 432x288 with 1 Axes>"
      ]
     },
     "metadata": {
      "needs_background": "light"
     },
     "output_type": "display_data"
    }
   ],
   "source": [
    "x_range = range(len(acc))\n",
    "plt.plot(x_range, acc)\n",
    "plt.xlabel(\"epochs\")\n",
    "plt.ylabel(\"Accuracy score\")\n",
    "plt.show()"
   ]
  }
 ],
 "metadata": {
  "kernelspec": {
   "display_name": "Python 3",
   "language": "python",
   "name": "python3"
  },
  "language_info": {
   "codemirror_mode": {
    "name": "ipython",
    "version": 3
   },
   "file_extension": ".py",
   "mimetype": "text/x-python",
   "name": "python",
   "nbconvert_exporter": "python",
   "pygments_lexer": "ipython3",
   "version": "3.7.3"
  }
 },
 "nbformat": 4,
 "nbformat_minor": 2
}
