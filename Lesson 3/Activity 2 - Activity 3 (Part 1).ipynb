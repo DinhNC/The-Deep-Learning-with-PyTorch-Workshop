{
 "cells": [
  {
   "cell_type": "markdown",
   "metadata": {},
   "source": [
    "## ACTIVITY 2"
   ]
  },
  {
   "cell_type": "code",
   "execution_count": 1,
   "metadata": {},
   "outputs": [
    {
     "data": {
      "text/plain": [
       "<torch._C.Generator at 0x1acf629df10>"
      ]
     },
     "execution_count": 1,
     "metadata": {},
     "output_type": "execute_result"
    }
   ],
   "source": [
    "import pandas as pd\n",
    "import numpy as np\n",
    "from sklearn.model_selection import train_test_split\n",
    "from sklearn.utils import shuffle\n",
    "from sklearn.metrics import accuracy_score\n",
    "import torch\n",
    "from torch import nn, optim\n",
    "import torch.nn.functional as F\n",
    "import matplotlib.pyplot as plt\n",
    "torch.manual_seed(0)"
   ]
  },
  {
   "cell_type": "code",
   "execution_count": 2,
   "metadata": {},
   "outputs": [
    {
     "data": {
      "text/html": [
       "<div>\n",
       "<style scoped>\n",
       "    .dataframe tbody tr th:only-of-type {\n",
       "        vertical-align: middle;\n",
       "    }\n",
       "\n",
       "    .dataframe tbody tr th {\n",
       "        vertical-align: top;\n",
       "    }\n",
       "\n",
       "    .dataframe thead th {\n",
       "        text-align: right;\n",
       "    }\n",
       "</style>\n",
       "<table border=\"1\" class=\"dataframe\">\n",
       "  <thead>\n",
       "    <tr style=\"text-align: right;\">\n",
       "      <th></th>\n",
       "      <th>LIMIT_BAL</th>\n",
       "      <th>EDUCATION</th>\n",
       "      <th>MARRIAGE</th>\n",
       "      <th>AGE</th>\n",
       "      <th>PAY_0</th>\n",
       "      <th>PAY_2</th>\n",
       "      <th>PAY_3</th>\n",
       "      <th>PAY_4</th>\n",
       "      <th>PAY_5</th>\n",
       "      <th>PAY_6</th>\n",
       "      <th>...</th>\n",
       "      <th>BILL_AMT4</th>\n",
       "      <th>BILL_AMT5</th>\n",
       "      <th>BILL_AMT6</th>\n",
       "      <th>PAY_AMT1</th>\n",
       "      <th>PAY_AMT2</th>\n",
       "      <th>PAY_AMT3</th>\n",
       "      <th>PAY_AMT4</th>\n",
       "      <th>PAY_AMT5</th>\n",
       "      <th>PAY_AMT6</th>\n",
       "      <th>default payment next month</th>\n",
       "    </tr>\n",
       "  </thead>\n",
       "  <tbody>\n",
       "    <tr>\n",
       "      <th>0</th>\n",
       "      <td>0.080808</td>\n",
       "      <td>0.333333</td>\n",
       "      <td>0.666667</td>\n",
       "      <td>0.224138</td>\n",
       "      <td>0.2</td>\n",
       "      <td>0.2</td>\n",
       "      <td>0.2</td>\n",
       "      <td>0.2</td>\n",
       "      <td>0.2</td>\n",
       "      <td>0.2</td>\n",
       "      <td>...</td>\n",
       "      <td>0.173637</td>\n",
       "      <td>0.095470</td>\n",
       "      <td>0.272928</td>\n",
       "      <td>0.001738</td>\n",
       "      <td>0.000891</td>\n",
       "      <td>0.001116</td>\n",
       "      <td>0.001610</td>\n",
       "      <td>0.002345</td>\n",
       "      <td>0.009458</td>\n",
       "      <td>0</td>\n",
       "    </tr>\n",
       "    <tr>\n",
       "      <th>1</th>\n",
       "      <td>0.040404</td>\n",
       "      <td>0.333333</td>\n",
       "      <td>0.333333</td>\n",
       "      <td>0.275862</td>\n",
       "      <td>0.2</td>\n",
       "      <td>0.2</td>\n",
       "      <td>0.2</td>\n",
       "      <td>0.2</td>\n",
       "      <td>0.2</td>\n",
       "      <td>0.2</td>\n",
       "      <td>...</td>\n",
       "      <td>0.186809</td>\n",
       "      <td>0.109363</td>\n",
       "      <td>0.283685</td>\n",
       "      <td>0.002290</td>\n",
       "      <td>0.001199</td>\n",
       "      <td>0.001339</td>\n",
       "      <td>0.001771</td>\n",
       "      <td>0.002506</td>\n",
       "      <td>0.001892</td>\n",
       "      <td>0</td>\n",
       "    </tr>\n",
       "    <tr>\n",
       "      <th>2</th>\n",
       "      <td>0.040404</td>\n",
       "      <td>0.333333</td>\n",
       "      <td>0.333333</td>\n",
       "      <td>0.620690</td>\n",
       "      <td>0.1</td>\n",
       "      <td>0.2</td>\n",
       "      <td>0.1</td>\n",
       "      <td>0.2</td>\n",
       "      <td>0.2</td>\n",
       "      <td>0.2</td>\n",
       "      <td>...</td>\n",
       "      <td>0.179863</td>\n",
       "      <td>0.099633</td>\n",
       "      <td>0.275681</td>\n",
       "      <td>0.002290</td>\n",
       "      <td>0.021779</td>\n",
       "      <td>0.011160</td>\n",
       "      <td>0.014493</td>\n",
       "      <td>0.001615</td>\n",
       "      <td>0.001284</td>\n",
       "      <td>0</td>\n",
       "    </tr>\n",
       "    <tr>\n",
       "      <th>3</th>\n",
       "      <td>0.040404</td>\n",
       "      <td>0.166667</td>\n",
       "      <td>0.666667</td>\n",
       "      <td>0.275862</td>\n",
       "      <td>0.2</td>\n",
       "      <td>0.2</td>\n",
       "      <td>0.2</td>\n",
       "      <td>0.2</td>\n",
       "      <td>0.2</td>\n",
       "      <td>0.2</td>\n",
       "      <td>...</td>\n",
       "      <td>0.178407</td>\n",
       "      <td>0.100102</td>\n",
       "      <td>0.276367</td>\n",
       "      <td>0.002862</td>\n",
       "      <td>0.001078</td>\n",
       "      <td>0.000733</td>\n",
       "      <td>0.001610</td>\n",
       "      <td>0.002345</td>\n",
       "      <td>0.001513</td>\n",
       "      <td>0</td>\n",
       "    </tr>\n",
       "    <tr>\n",
       "      <th>4</th>\n",
       "      <td>0.494949</td>\n",
       "      <td>0.166667</td>\n",
       "      <td>0.666667</td>\n",
       "      <td>0.137931</td>\n",
       "      <td>0.2</td>\n",
       "      <td>0.2</td>\n",
       "      <td>0.2</td>\n",
       "      <td>0.2</td>\n",
       "      <td>0.2</td>\n",
       "      <td>0.2</td>\n",
       "      <td>...</td>\n",
       "      <td>0.671310</td>\n",
       "      <td>0.559578</td>\n",
       "      <td>0.625196</td>\n",
       "      <td>0.062961</td>\n",
       "      <td>0.023749</td>\n",
       "      <td>0.042409</td>\n",
       "      <td>0.032591</td>\n",
       "      <td>0.032237</td>\n",
       "      <td>0.026047</td>\n",
       "      <td>0</td>\n",
       "    </tr>\n",
       "  </tbody>\n",
       "</table>\n",
       "<p>5 rows × 23 columns</p>\n",
       "</div>"
      ],
      "text/plain": [
       "   LIMIT_BAL  EDUCATION  MARRIAGE       AGE  PAY_0  PAY_2  PAY_3  PAY_4  \\\n",
       "0   0.080808   0.333333  0.666667  0.224138    0.2    0.2    0.2    0.2   \n",
       "1   0.040404   0.333333  0.333333  0.275862    0.2    0.2    0.2    0.2   \n",
       "2   0.040404   0.333333  0.333333  0.620690    0.1    0.2    0.1    0.2   \n",
       "3   0.040404   0.166667  0.666667  0.275862    0.2    0.2    0.2    0.2   \n",
       "4   0.494949   0.166667  0.666667  0.137931    0.2    0.2    0.2    0.2   \n",
       "\n",
       "   PAY_5  PAY_6  ...  BILL_AMT4  BILL_AMT5  BILL_AMT6  PAY_AMT1  PAY_AMT2  \\\n",
       "0    0.2    0.2  ...   0.173637   0.095470   0.272928  0.001738  0.000891   \n",
       "1    0.2    0.2  ...   0.186809   0.109363   0.283685  0.002290  0.001199   \n",
       "2    0.2    0.2  ...   0.179863   0.099633   0.275681  0.002290  0.021779   \n",
       "3    0.2    0.2  ...   0.178407   0.100102   0.276367  0.002862  0.001078   \n",
       "4    0.2    0.2  ...   0.671310   0.559578   0.625196  0.062961  0.023749   \n",
       "\n",
       "   PAY_AMT3  PAY_AMT4  PAY_AMT5  PAY_AMT6  default payment next month  \n",
       "0  0.001116  0.001610  0.002345  0.009458                           0  \n",
       "1  0.001339  0.001771  0.002506  0.001892                           0  \n",
       "2  0.011160  0.014493  0.001615  0.001284                           0  \n",
       "3  0.000733  0.001610  0.002345  0.001513                           0  \n",
       "4  0.042409  0.032591  0.032237  0.026047                           0  \n",
       "\n",
       "[5 rows x 23 columns]"
      ]
     },
     "execution_count": 2,
     "metadata": {},
     "output_type": "execute_result"
    }
   ],
   "source": [
    "data = pd.read_csv(\"dccc_prepared.csv\")\n",
    "data.head()"
   ]
  },
  {
   "cell_type": "code",
   "execution_count": 3,
   "metadata": {},
   "outputs": [],
   "source": [
    "X = data.iloc[:,:-1]\n",
    "y = data[\"default payment next month\"]"
   ]
  },
  {
   "cell_type": "code",
   "execution_count": 4,
   "metadata": {},
   "outputs": [],
   "source": [
    "X_new, X_test, y_new, y_test = train_test_split(X, y, test_size=0.2, random_state=0)\n",
    "dev_per = X_test.shape[0]/X_new.shape[0]\n",
    "X_train, X_dev, y_train, y_dev = train_test_split(X_new, y_new, test_size=dev_per, random_state=0)"
   ]
  },
  {
   "cell_type": "code",
   "execution_count": 5,
   "metadata": {},
   "outputs": [],
   "source": [
    "X_dev_torch = torch.tensor(X_dev.values).float()\n",
    "y_dev_torch = torch.tensor(y_dev.values)\n",
    "X_test_torch = torch.tensor(X_test.values).float()\n",
    "y_test_torch = torch.tensor(y_test.values)"
   ]
  },
  {
   "cell_type": "markdown",
   "metadata": {},
   "source": [
    "### First fine-tuning approach"
   ]
  },
  {
   "cell_type": "code",
   "execution_count": 6,
   "metadata": {},
   "outputs": [],
   "source": [
    "class Classifier(nn.Module):\n",
    "    def __init__(self, input_size):\n",
    "        super().__init__()\n",
    "        self.hidden_1 = nn.Linear(input_size, 10)\n",
    "        self.hidden_2 = nn.Linear(10, 10)\n",
    "        self.hidden_3 = nn.Linear(10, 10)\n",
    "        self.output = nn.Linear(10, 2)\n",
    "        \n",
    "    def forward(self, x):\n",
    "        z = F.relu(self.hidden_1(x))\n",
    "        z = F.relu(self.hidden_2(z))\n",
    "        z = F.relu(self.hidden_3(z))\n",
    "        out = F.log_softmax(self.output(z), dim=1)\n",
    "        \n",
    "        return out"
   ]
  },
  {
   "cell_type": "code",
   "execution_count": 7,
   "metadata": {},
   "outputs": [],
   "source": [
    "model = Classifier(X_train.shape[1])\n",
    "criterion = nn.NLLLoss()\n",
    "optimizer = optim.Adam(model.parameters(), lr=0.001)\n",
    "\n",
    "epochs = 1000\n",
    "batch_size = 128"
   ]
  },
  {
   "cell_type": "code",
   "execution_count": 8,
   "metadata": {},
   "outputs": [
    {
     "name": "stdout",
     "output_type": "stream",
     "text": [
      "Epoch: 1/1000..  Training Loss: 0.671..  Validation Loss: 0.625..  Training Accuracy: 0.587..  Validation Accuracy: 0.647\n",
      "Epoch: 50/1000..  Training Loss: 0.555..  Validation Loss: 0.565..  Training Accuracy: 0.716..  Validation Accuracy: 0.702\n",
      "Epoch: 100/1000..  Training Loss: 0.550..  Validation Loss: 0.561..  Training Accuracy: 0.719..  Validation Accuracy: 0.712\n",
      "Epoch: 150/1000..  Training Loss: 0.550..  Validation Loss: 0.566..  Training Accuracy: 0.718..  Validation Accuracy: 0.715\n",
      "Epoch: 200/1000..  Training Loss: 0.546..  Validation Loss: 0.560..  Training Accuracy: 0.722..  Validation Accuracy: 0.712\n",
      "Epoch: 250/1000..  Training Loss: 0.545..  Validation Loss: 0.561..  Training Accuracy: 0.723..  Validation Accuracy: 0.708\n",
      "Epoch: 300/1000..  Training Loss: 0.545..  Validation Loss: 0.558..  Training Accuracy: 0.722..  Validation Accuracy: 0.715\n",
      "Epoch: 350/1000..  Training Loss: 0.542..  Validation Loss: 0.561..  Training Accuracy: 0.723..  Validation Accuracy: 0.714\n",
      "Epoch: 400/1000..  Training Loss: 0.539..  Validation Loss: 0.560..  Training Accuracy: 0.724..  Validation Accuracy: 0.709\n",
      "Epoch: 450/1000..  Training Loss: 0.540..  Validation Loss: 0.561..  Training Accuracy: 0.726..  Validation Accuracy: 0.712\n",
      "Epoch: 500/1000..  Training Loss: 0.540..  Validation Loss: 0.560..  Training Accuracy: 0.725..  Validation Accuracy: 0.713\n",
      "Epoch: 550/1000..  Training Loss: 0.538..  Validation Loss: 0.565..  Training Accuracy: 0.726..  Validation Accuracy: 0.716\n",
      "Epoch: 600/1000..  Training Loss: 0.539..  Validation Loss: 0.562..  Training Accuracy: 0.725..  Validation Accuracy: 0.712\n",
      "Epoch: 650/1000..  Training Loss: 0.539..  Validation Loss: 0.563..  Training Accuracy: 0.724..  Validation Accuracy: 0.710\n",
      "Epoch: 700/1000..  Training Loss: 0.538..  Validation Loss: 0.565..  Training Accuracy: 0.723..  Validation Accuracy: 0.710\n",
      "Epoch: 750/1000..  Training Loss: 0.537..  Validation Loss: 0.569..  Training Accuracy: 0.723..  Validation Accuracy: 0.707\n",
      "Epoch: 800/1000..  Training Loss: 0.538..  Validation Loss: 0.566..  Training Accuracy: 0.724..  Validation Accuracy: 0.708\n",
      "Epoch: 850/1000..  Training Loss: 0.536..  Validation Loss: 0.568..  Training Accuracy: 0.726..  Validation Accuracy: 0.713\n",
      "Epoch: 900/1000..  Training Loss: 0.534..  Validation Loss: 0.566..  Training Accuracy: 0.727..  Validation Accuracy: 0.711\n",
      "Epoch: 950/1000..  Training Loss: 0.535..  Validation Loss: 0.576..  Training Accuracy: 0.725..  Validation Accuracy: 0.713\n",
      "Epoch: 1000/1000..  Training Loss: 0.537..  Validation Loss: 0.570..  Training Accuracy: 0.724..  Validation Accuracy: 0.707\n"
     ]
    }
   ],
   "source": [
    "train_losses, dev_losses, train_acc, dev_acc= [], [], [], []\n",
    "x_axis = []\n",
    "\n",
    "for e in range(1,epochs+1):\n",
    "    X_, y_ = shuffle(X_train, y_train)\n",
    "    running_loss = 0\n",
    "    running_acc = 0\n",
    "    iterations = 0\n",
    "    \n",
    "    for i in range(0, len(X_), batch_size):\n",
    "        iterations += 1\n",
    "        b = i + batch_size\n",
    "        X_batch = torch.tensor(X_.iloc[i:b,:].values).float()\n",
    "        y_batch = torch.tensor(y_.iloc[i:b].values)\n",
    "        \n",
    "        log_ps = model(X_batch)\n",
    "        loss = criterion(log_ps, y_batch)\n",
    "        optimizer.zero_grad()\n",
    "        loss.backward()\n",
    "        optimizer.step()\n",
    "        \n",
    "        running_loss += loss.item()\n",
    "        ps = torch.exp(log_ps)\n",
    "        top_p, top_class = ps.topk(1, dim=1)\n",
    "        running_acc += accuracy_score(y_batch, top_class)\n",
    "        \n",
    "    dev_loss = 0\n",
    "    acc = 0\n",
    "\n",
    "    # Turn off gradients for validation, saves memory and computations\n",
    "    with torch.no_grad():\n",
    "        log_dev = model(X_dev_torch)\n",
    "        dev_loss = criterion(log_dev, y_dev_torch)\n",
    "\n",
    "        ps_dev = torch.exp(log_dev)\n",
    "        top_p, top_class_dev = ps_dev.topk(1, dim=1)\n",
    "        acc = accuracy_score(y_dev_torch, top_class_dev)\n",
    "\n",
    "    if e%50 == 0 or e == 1:\n",
    "        x_axis.append(e)\n",
    "        \n",
    "        train_losses.append(running_loss/iterations)\n",
    "        dev_losses.append(dev_loss)\n",
    "        train_acc.append(running_acc/iterations)\n",
    "        dev_acc.append(acc)\n",
    "        \n",
    "        print(\"Epoch: {}/{}.. \".format(e, epochs),\n",
    "              \"Training Loss: {:.3f}.. \".format(running_loss/iterations),\n",
    "              \"Validation Loss: {:.3f}.. \".format(dev_loss),\n",
    "              \"Training Accuracy: {:.3f}.. \".format(running_acc/iterations),\n",
    "              \"Validation Accuracy: {:.3f}\".format(acc))"
   ]
  },
  {
   "cell_type": "code",
   "execution_count": 9,
   "metadata": {},
   "outputs": [
    {
     "data": {
      "image/png": "[encoded data removed]",
      "text/plain": [
       "<Figure size 432x288 with 1 Axes>"
      ]
     },
     "metadata": {
      "needs_background": "light"
     },
     "output_type": "display_data"
    }
   ],
   "source": [
    "plt.plot(x_axis,train_losses, label='Training loss')\n",
    "plt.plot(x_axis, dev_losses, label='Validation loss')\n",
    "plt.legend(frameon=False)\n",
    "plt.show()"
   ]
  },
  {
   "cell_type": "code",
   "execution_count": 10,
   "metadata": {},
   "outputs": [
    {
     "data": {
      "image/png": "[encoded data removed]",
      "text/plain": [
       "<Figure size 432x288 with 1 Axes>"
      ]
     },
     "metadata": {
      "needs_background": "light"
     },
     "output_type": "display_data"
    }
   ],
   "source": [
    "plt.plot(x_axis, train_acc, label=\"Training accuracy\")\n",
    "plt.plot(x_axis, dev_acc, label=\"Validation accuracy\")\n",
    "plt.legend(frameon=False)\n",
    "plt.show()"
   ]
  },
  {
   "cell_type": "markdown",
   "metadata": {},
   "source": [
    "### Second fine-tuning approach"
   ]
  },
  {
   "cell_type": "code",
   "execution_count": 11,
   "metadata": {},
   "outputs": [],
   "source": [
    "class Classifier(nn.Module):\n",
    "    def __init__(self, input_size):\n",
    "        super().__init__()\n",
    "        self.hidden_1 = nn.Linear(input_size, 10)\n",
    "        self.hidden_2 = nn.Linear(10, 10)\n",
    "        self.hidden_3 = nn.Linear(10, 10)\n",
    "        self.hidden_4 = nn.Linear(10, 10)\n",
    "        self.output = nn.Linear(10, 2)\n",
    "        \n",
    "    def forward(self, x):\n",
    "        z = F.relu(self.hidden_1(x))\n",
    "        z = F.relu(self.hidden_2(z))\n",
    "        z = F.relu(self.hidden_3(z))\n",
    "        z = F.relu(self.hidden_4(z))\n",
    "        out = F.log_softmax(self.output(z), dim=1)\n",
    "        \n",
    "        return out"
   ]
  },
  {
   "cell_type": "code",
   "execution_count": 12,
   "metadata": {},
   "outputs": [],
   "source": [
    "model = Classifier(X_train.shape[1])\n",
    "criterion = nn.NLLLoss()\n",
    "optimizer = optim.Adam(model.parameters(), lr=0.001)\n",
    "\n",
    "epochs = 1000\n",
    "batch_size = 128"
   ]
  },
  {
   "cell_type": "code",
   "execution_count": 13,
   "metadata": {},
   "outputs": [
    {
     "name": "stdout",
     "output_type": "stream",
     "text": [
      "Epoch: 1/1000..  Training Loss: 0.667..  Validation Loss: 0.617..  Training Accuracy: 0.631..  Validation Accuracy: 0.666\n",
      "Epoch: 50/1000..  Training Loss: 0.555..  Validation Loss: 0.566..  Training Accuracy: 0.717..  Validation Accuracy: 0.711\n",
      "Epoch: 100/1000..  Training Loss: 0.550..  Validation Loss: 0.562..  Training Accuracy: 0.721..  Validation Accuracy: 0.711\n",
      "Epoch: 150/1000..  Training Loss: 0.548..  Validation Loss: 0.559..  Training Accuracy: 0.721..  Validation Accuracy: 0.713\n",
      "Epoch: 200/1000..  Training Loss: 0.547..  Validation Loss: 0.561..  Training Accuracy: 0.720..  Validation Accuracy: 0.707\n",
      "Epoch: 250/1000..  Training Loss: 0.548..  Validation Loss: 0.558..  Training Accuracy: 0.721..  Validation Accuracy: 0.712\n",
      "Epoch: 300/1000..  Training Loss: 0.545..  Validation Loss: 0.561..  Training Accuracy: 0.724..  Validation Accuracy: 0.707\n",
      "Epoch: 350/1000..  Training Loss: 0.541..  Validation Loss: 0.558..  Training Accuracy: 0.727..  Validation Accuracy: 0.714\n",
      "Epoch: 400/1000..  Training Loss: 0.538..  Validation Loss: 0.558..  Training Accuracy: 0.727..  Validation Accuracy: 0.710\n",
      "Epoch: 450/1000..  Training Loss: 0.541..  Validation Loss: 0.566..  Training Accuracy: 0.727..  Validation Accuracy: 0.701\n",
      "Epoch: 500/1000..  Training Loss: 0.542..  Validation Loss: 0.555..  Training Accuracy: 0.726..  Validation Accuracy: 0.714\n",
      "Epoch: 550/1000..  Training Loss: 0.539..  Validation Loss: 0.556..  Training Accuracy: 0.728..  Validation Accuracy: 0.718\n",
      "Epoch: 600/1000..  Training Loss: 0.536..  Validation Loss: 0.555..  Training Accuracy: 0.731..  Validation Accuracy: 0.717\n",
      "Epoch: 650/1000..  Training Loss: 0.536..  Validation Loss: 0.555..  Training Accuracy: 0.731..  Validation Accuracy: 0.719\n",
      "Epoch: 700/1000..  Training Loss: 0.536..  Validation Loss: 0.564..  Training Accuracy: 0.731..  Validation Accuracy: 0.707\n",
      "Epoch: 750/1000..  Training Loss: 0.535..  Validation Loss: 0.559..  Training Accuracy: 0.730..  Validation Accuracy: 0.714\n",
      "Epoch: 800/1000..  Training Loss: 0.534..  Validation Loss: 0.556..  Training Accuracy: 0.731..  Validation Accuracy: 0.720\n",
      "Epoch: 850/1000..  Training Loss: 0.534..  Validation Loss: 0.558..  Training Accuracy: 0.733..  Validation Accuracy: 0.714\n",
      "Epoch: 900/1000..  Training Loss: 0.534..  Validation Loss: 0.560..  Training Accuracy: 0.731..  Validation Accuracy: 0.714\n",
      "Epoch: 950/1000..  Training Loss: 0.534..  Validation Loss: 0.558..  Training Accuracy: 0.732..  Validation Accuracy: 0.717\n",
      "Epoch: 1000/1000..  Training Loss: 0.532..  Validation Loss: 0.558..  Training Accuracy: 0.733..  Validation Accuracy: 0.719\n"
     ]
    }
   ],
   "source": [
    "train_losses, dev_losses, train_acc, dev_acc= [], [], [], []\n",
    "x_axis = []\n",
    "\n",
    "for e in range(1, epochs + 1):\n",
    "    X_, y_ = shuffle(X_train, y_train)\n",
    "    running_loss = 0\n",
    "    running_acc = 0\n",
    "    iterations = 0\n",
    "    \n",
    "    for i in range(0, len(X_), batch_size):\n",
    "        iterations += 1\n",
    "        b = i + batch_size\n",
    "        X_batch = torch.tensor(X_.iloc[i:b,:].values).float()\n",
    "        y_batch = torch.tensor(y_.iloc[i:b].values)\n",
    "        \n",
    "        log_ps = model(X_batch)\n",
    "        loss = criterion(log_ps, y_batch)\n",
    "        optimizer.zero_grad()\n",
    "        loss.backward()\n",
    "        optimizer.step()\n",
    "        \n",
    "        running_loss += loss.item()\n",
    "        ps = torch.exp(log_ps)\n",
    "        top_p, top_class = ps.topk(1, dim=1)\n",
    "        running_acc += accuracy_score(y_batch, top_class)\n",
    "        \n",
    "    dev_loss = 0\n",
    "    acc = 0\n",
    "\n",
    "    # Turn off gradients for validation, saves memory and computations\n",
    "    with torch.no_grad():\n",
    "        log_dev = model(X_dev_torch)\n",
    "        dev_loss = criterion(log_dev, y_dev_torch)\n",
    "\n",
    "        ps_dev = torch.exp(log_dev)\n",
    "        top_p, top_class_dev = ps_dev.topk(1, dim=1)\n",
    "        acc = accuracy_score(y_dev_torch, top_class_dev)\n",
    "\n",
    "    if e%50 == 0 or e == 1:\n",
    "        x_axis.append(e)\n",
    "        \n",
    "        train_losses.append(running_loss/iterations)\n",
    "        dev_losses.append(dev_loss)\n",
    "        train_acc.append(running_acc/iterations)\n",
    "        dev_acc.append(acc)\n",
    "        \n",
    "        print(\"Epoch: {}/{}.. \".format(e, epochs),\n",
    "              \"Training Loss: {:.3f}.. \".format(running_loss/iterations),\n",
    "              \"Validation Loss: {:.3f}.. \".format(dev_loss),\n",
    "              \"Training Accuracy: {:.3f}.. \".format(running_acc/iterations),\n",
    "              \"Validation Accuracy: {:.3f}\".format(acc))"
   ]
  },
  {
   "cell_type": "code",
   "execution_count": 14,
   "metadata": {},
   "outputs": [
    {
     "data": {
      "image/png": "[encoded data removed]",
      "text/plain": [
       "<Figure size 432x288 with 1 Axes>"
      ]
     },
     "metadata": {
      "needs_background": "light"
     },
     "output_type": "display_data"
    }
   ],
   "source": [
    "plt.plot(x_axis,train_losses, label='Training loss')\n",
    "plt.plot(x_axis, dev_losses, label='Validation loss')\n",
    "plt.legend(frameon=False)\n",
    "plt.show()"
   ]
  },
  {
   "cell_type": "code",
   "execution_count": 15,
   "metadata": {},
   "outputs": [
    {
     "data": {
      "image/png": "[encoded data removed]",
      "text/plain": [
       "<Figure size 432x288 with 1 Axes>"
      ]
     },
     "metadata": {
      "needs_background": "light"
     },
     "output_type": "display_data"
    }
   ],
   "source": [
    "plt.plot(x_axis, train_acc, label=\"Training accuracy\")\n",
    "plt.plot(x_axis, dev_acc, label=\"Validation accuracy\")\n",
    "plt.legend(frameon=False)\n",
    "plt.show()"
   ]
  },
  {
   "cell_type": "markdown",
   "metadata": {},
   "source": [
    "### Third fine-tuning approach"
   ]
  },
  {
   "cell_type": "code",
   "execution_count": 16,
   "metadata": {},
   "outputs": [],
   "source": [
    "class Classifier(nn.Module):\n",
    "    def __init__(self, input_size):\n",
    "        super().__init__()\n",
    "        self.hidden_1 = nn.Linear(input_size, 50)\n",
    "        self.hidden_2 = nn.Linear(50, 50)\n",
    "        self.hidden_3 = nn.Linear(50, 50)\n",
    "        self.hidden_4 = nn.Linear(50, 50)\n",
    "        self.output = nn.Linear(50, 2)\n",
    "        \n",
    "    def forward(self, x):\n",
    "        z = F.relu(self.hidden_1(x))\n",
    "        z = F.relu(self.hidden_2(z))\n",
    "        z = F.relu(self.hidden_3(z))\n",
    "        z = F.relu(self.hidden_4(z))\n",
    "        out = F.log_softmax(self.output(z), dim=1)\n",
    "        \n",
    "        return out"
   ]
  },
  {
   "cell_type": "code",
   "execution_count": 17,
   "metadata": {},
   "outputs": [],
   "source": [
    "model = Classifier(X_train.shape[1])\n",
    "criterion = nn.NLLLoss()\n",
    "optimizer = optim.Adam(model.parameters(), lr=0.001)\n",
    "\n",
    "epochs = 1000\n",
    "batch_size = 128"
   ]
  },
  {
   "cell_type": "code",
   "execution_count": 18,
   "metadata": {},
   "outputs": [
    {
     "name": "stdout",
     "output_type": "stream",
     "text": [
      "Epoch: 1/1000..  Training Loss: 0.626..  Validation Loss: 0.600..  Training Accuracy: 0.647..  Validation Accuracy: 0.682\n",
      "Epoch: 50/1000..  Training Loss: 0.537..  Validation Loss: 0.553..  Training Accuracy: 0.729..  Validation Accuracy: 0.715\n",
      "Epoch: 100/1000..  Training Loss: 0.501..  Validation Loss: 0.554..  Training Accuracy: 0.753..  Validation Accuracy: 0.724\n",
      "Epoch: 150/1000..  Training Loss: 0.464..  Validation Loss: 0.558..  Training Accuracy: 0.769..  Validation Accuracy: 0.726\n",
      "Epoch: 200/1000..  Training Loss: 0.447..  Validation Loss: 0.569..  Training Accuracy: 0.777..  Validation Accuracy: 0.736\n",
      "Epoch: 250/1000..  Training Loss: 0.401..  Validation Loss: 0.589..  Training Accuracy: 0.805..  Validation Accuracy: 0.748\n",
      "Epoch: 300/1000..  Training Loss: 0.379..  Validation Loss: 0.629..  Training Accuracy: 0.819..  Validation Accuracy: 0.744\n",
      "Epoch: 350/1000..  Training Loss: 0.362..  Validation Loss: 0.652..  Training Accuracy: 0.829..  Validation Accuracy: 0.756\n",
      "Epoch: 400/1000..  Training Loss: 0.345..  Validation Loss: 0.659..  Training Accuracy: 0.837..  Validation Accuracy: 0.764\n",
      "Epoch: 450/1000..  Training Loss: 0.335..  Validation Loss: 0.673..  Training Accuracy: 0.841..  Validation Accuracy: 0.770\n",
      "Epoch: 500/1000..  Training Loss: 0.320..  Validation Loss: 0.745..  Training Accuracy: 0.850..  Validation Accuracy: 0.770\n",
      "Epoch: 550/1000..  Training Loss: 0.313..  Validation Loss: 0.791..  Training Accuracy: 0.853..  Validation Accuracy: 0.768\n",
      "Epoch: 600/1000..  Training Loss: 0.296..  Validation Loss: 0.805..  Training Accuracy: 0.862..  Validation Accuracy: 0.774\n",
      "Epoch: 650/1000..  Training Loss: 0.293..  Validation Loss: 0.865..  Training Accuracy: 0.865..  Validation Accuracy: 0.767\n",
      "Epoch: 700/1000..  Training Loss: 0.284..  Validation Loss: 0.933..  Training Accuracy: 0.871..  Validation Accuracy: 0.761\n",
      "Epoch: 750/1000..  Training Loss: 0.278..  Validation Loss: 0.897..  Training Accuracy: 0.871..  Validation Accuracy: 0.777\n",
      "Epoch: 800/1000..  Training Loss: 0.269..  Validation Loss: 0.889..  Training Accuracy: 0.875..  Validation Accuracy: 0.777\n",
      "Epoch: 850/1000..  Training Loss: 0.263..  Validation Loss: 0.939..  Training Accuracy: 0.880..  Validation Accuracy: 0.788\n",
      "Epoch: 900/1000..  Training Loss: 0.264..  Validation Loss: 0.952..  Training Accuracy: 0.881..  Validation Accuracy: 0.790\n",
      "Epoch: 950/1000..  Training Loss: 0.250..  Validation Loss: 1.010..  Training Accuracy: 0.888..  Validation Accuracy: 0.784\n",
      "Epoch: 1000/1000..  Training Loss: 0.242..  Validation Loss: 1.027..  Training Accuracy: 0.891..  Validation Accuracy: 0.787\n"
     ]
    }
   ],
   "source": [
    "train_losses, dev_losses, train_acc, dev_acc= [], [], [], []\n",
    "x_axis = []\n",
    "\n",
    "for e in range(1, epochs + 1):\n",
    "    X_, y_ = shuffle(X_train, y_train)\n",
    "    running_loss = 0\n",
    "    running_acc = 0\n",
    "    iterations = 0\n",
    "    \n",
    "    for i in range(0, len(X_), batch_size):\n",
    "        iterations += 1\n",
    "        b = i + batch_size\n",
    "        X_batch = torch.tensor(X_.iloc[i:b,:].values).float()\n",
    "        y_batch = torch.tensor(y_.iloc[i:b].values)\n",
    "        \n",
    "        log_ps = model(X_batch)\n",
    "        loss = criterion(log_ps, y_batch)\n",
    "        optimizer.zero_grad()\n",
    "        loss.backward()\n",
    "        optimizer.step()\n",
    "        \n",
    "        running_loss += loss.item()\n",
    "        ps = torch.exp(log_ps)\n",
    "        top_p, top_class = ps.topk(1, dim=1)\n",
    "        running_acc += accuracy_score(y_batch, top_class)\n",
    "        \n",
    "    dev_loss = 0\n",
    "    acc = 0\n",
    "\n",
    "    # Turn off gradients for validation, saves memory and computations\n",
    "    with torch.no_grad():\n",
    "        log_dev = model(X_dev_torch)\n",
    "        dev_loss = criterion(log_dev, y_dev_torch)\n",
    "\n",
    "        ps_dev = torch.exp(log_dev)\n",
    "        top_p, top_class_dev = ps_dev.topk(1, dim=1)\n",
    "        acc = accuracy_score(y_dev_torch, top_class_dev)\n",
    "\n",
    "    if e%50 == 0 or e == 1:\n",
    "        x_axis.append(e)\n",
    "        \n",
    "        train_losses.append(running_loss/iterations)\n",
    "        dev_losses.append(dev_loss)\n",
    "        train_acc.append(running_acc/iterations)\n",
    "        dev_acc.append(acc)\n",
    "        \n",
    "        print(\"Epoch: {}/{}.. \".format(e, epochs),\n",
    "              \"Training Loss: {:.3f}.. \".format(running_loss/iterations),\n",
    "              \"Validation Loss: {:.3f}.. \".format(dev_loss),\n",
    "              \"Training Accuracy: {:.3f}.. \".format(running_acc/iterations),\n",
    "              \"Validation Accuracy: {:.3f}\".format(acc))"
   ]
  },
  {
   "cell_type": "code",
   "execution_count": 19,
   "metadata": {},
   "outputs": [
    {
     "data": {
      "image/png": "[encoded data removed]",
      "text/plain": [
       "<Figure size 432x288 with 1 Axes>"
      ]
     },
     "metadata": {
      "needs_background": "light"
     },
     "output_type": "display_data"
    }
   ],
   "source": [
    "plt.plot(x_axis,train_losses, label='Training loss')\n",
    "plt.plot(x_axis, dev_losses, label='Validation loss')\n",
    "plt.legend(frameon=False)\n",
    "plt.show()"
   ]
  },
  {
   "cell_type": "code",
   "execution_count": 20,
   "metadata": {},
   "outputs": [
    {
     "data": {
      "image/png": "[encoded data removed]",
      "text/plain": [
       "<Figure size 432x288 with 1 Axes>"
      ]
     },
     "metadata": {
      "needs_background": "light"
     },
     "output_type": "display_data"
    }
   ],
   "source": [
    "plt.plot(x_axis, train_acc, label=\"Training accuracy\")\n",
    "plt.plot(x_axis, dev_acc, label=\"Validation accuracy\")\n",
    "plt.legend(frameon=False)\n",
    "plt.show()"
   ]
  },
  {
   "cell_type": "markdown",
   "metadata": {},
   "source": [
    "### Fourth fine-tuning approach"
   ]
  },
  {
   "cell_type": "code",
   "execution_count": 21,
   "metadata": {},
   "outputs": [],
   "source": [
    "class Classifier(nn.Module):\n",
    "    def __init__(self, input_size):\n",
    "        super().__init__()\n",
    "        self.hidden_1 = nn.Linear(input_size, 50)\n",
    "        self.hidden_2 = nn.Linear(50, 50)\n",
    "        self.hidden_3 = nn.Linear(50, 50)\n",
    "        self.hidden_4 = nn.Linear(50, 50)\n",
    "        self.output = nn.Linear(50, 2)\n",
    "        \n",
    "        self.dropout = nn.Dropout(p=0.10)\n",
    "        \n",
    "    def forward(self, x):\n",
    "        z = self.dropout(F.relu(self.hidden_1(x)))\n",
    "        z = self.dropout(F.relu(self.hidden_2(z)))\n",
    "        z = self.dropout(F.relu(self.hidden_3(z)))\n",
    "        z = self.dropout(F.relu(self.hidden_4(z)))\n",
    "        out = F.log_softmax(self.output(z), dim=1)\n",
    "        \n",
    "        return out"
   ]
  },
  {
   "cell_type": "code",
   "execution_count": 22,
   "metadata": {},
   "outputs": [],
   "source": [
    "model = Classifier(X_train.shape[1])\n",
    "criterion = nn.NLLLoss()\n",
    "optimizer = optim.Adam(model.parameters(), lr=0.001)\n",
    "\n",
    "epochs = 2000\n",
    "batch_size = 128"
   ]
  },
  {
   "cell_type": "code",
   "execution_count": 23,
   "metadata": {},
   "outputs": [
    {
     "name": "stdout",
     "output_type": "stream",
     "text": [
      "Epoch: 1/2000..  Training Loss: 0.624..  Validation Loss: 0.596..  Training Accuracy: 0.651..  Validation Accuracy: 0.688\n",
      "Epoch: 50/2000..  Training Loss: 0.540..  Validation Loss: 0.549..  Training Accuracy: 0.730..  Validation Accuracy: 0.716\n",
      "Epoch: 100/2000..  Training Loss: 0.531..  Validation Loss: 0.552..  Training Accuracy: 0.734..  Validation Accuracy: 0.704\n",
      "Epoch: 150/2000..  Training Loss: 0.520..  Validation Loss: 0.536..  Training Accuracy: 0.743..  Validation Accuracy: 0.721\n",
      "Epoch: 200/2000..  Training Loss: 0.511..  Validation Loss: 0.535..  Training Accuracy: 0.748..  Validation Accuracy: 0.724\n",
      "Epoch: 250/2000..  Training Loss: 0.501..  Validation Loss: 0.530..  Training Accuracy: 0.753..  Validation Accuracy: 0.732\n",
      "Epoch: 300/2000..  Training Loss: 0.493..  Validation Loss: 0.526..  Training Accuracy: 0.759..  Validation Accuracy: 0.733\n",
      "Epoch: 350/2000..  Training Loss: 0.492..  Validation Loss: 0.519..  Training Accuracy: 0.759..  Validation Accuracy: 0.739\n",
      "Epoch: 400/2000..  Training Loss: 0.490..  Validation Loss: 0.525..  Training Accuracy: 0.762..  Validation Accuracy: 0.737\n",
      "Epoch: 450/2000..  Training Loss: 0.489..  Validation Loss: 0.522..  Training Accuracy: 0.760..  Validation Accuracy: 0.736\n",
      "Epoch: 500/2000..  Training Loss: 0.486..  Validation Loss: 0.518..  Training Accuracy: 0.764..  Validation Accuracy: 0.739\n",
      "Epoch: 550/2000..  Training Loss: 0.482..  Validation Loss: 0.520..  Training Accuracy: 0.764..  Validation Accuracy: 0.739\n",
      "Epoch: 600/2000..  Training Loss: 0.486..  Validation Loss: 0.522..  Training Accuracy: 0.761..  Validation Accuracy: 0.738\n",
      "Epoch: 650/2000..  Training Loss: 0.479..  Validation Loss: 0.512..  Training Accuracy: 0.761..  Validation Accuracy: 0.748\n",
      "Epoch: 700/2000..  Training Loss: 0.478..  Validation Loss: 0.514..  Training Accuracy: 0.766..  Validation Accuracy: 0.746\n",
      "Epoch: 750/2000..  Training Loss: 0.477..  Validation Loss: 0.512..  Training Accuracy: 0.766..  Validation Accuracy: 0.744\n",
      "Epoch: 800/2000..  Training Loss: 0.479..  Validation Loss: 0.513..  Training Accuracy: 0.767..  Validation Accuracy: 0.746\n",
      "Epoch: 850/2000..  Training Loss: 0.477..  Validation Loss: 0.515..  Training Accuracy: 0.769..  Validation Accuracy: 0.743\n",
      "Epoch: 900/2000..  Training Loss: 0.472..  Validation Loss: 0.510..  Training Accuracy: 0.772..  Validation Accuracy: 0.750\n",
      "Epoch: 950/2000..  Training Loss: 0.475..  Validation Loss: 0.516..  Training Accuracy: 0.770..  Validation Accuracy: 0.745\n",
      "Epoch: 1000/2000..  Training Loss: 0.474..  Validation Loss: 0.512..  Training Accuracy: 0.766..  Validation Accuracy: 0.750\n",
      "Epoch: 1050/2000..  Training Loss: 0.474..  Validation Loss: 0.510..  Training Accuracy: 0.768..  Validation Accuracy: 0.750\n",
      "Epoch: 1100/2000..  Training Loss: 0.470..  Validation Loss: 0.511..  Training Accuracy: 0.769..  Validation Accuracy: 0.749\n",
      "Epoch: 1150/2000..  Training Loss: 0.467..  Validation Loss: 0.513..  Training Accuracy: 0.772..  Validation Accuracy: 0.752\n",
      "Epoch: 1200/2000..  Training Loss: 0.471..  Validation Loss: 0.511..  Training Accuracy: 0.771..  Validation Accuracy: 0.753\n",
      "Epoch: 1250/2000..  Training Loss: 0.469..  Validation Loss: 0.512..  Training Accuracy: 0.774..  Validation Accuracy: 0.748\n",
      "Epoch: 1300/2000..  Training Loss: 0.470..  Validation Loss: 0.511..  Training Accuracy: 0.773..  Validation Accuracy: 0.749\n",
      "Epoch: 1350/2000..  Training Loss: 0.468..  Validation Loss: 0.513..  Training Accuracy: 0.770..  Validation Accuracy: 0.752\n",
      "Epoch: 1400/2000..  Training Loss: 0.465..  Validation Loss: 0.506..  Training Accuracy: 0.774..  Validation Accuracy: 0.754\n",
      "Epoch: 1450/2000..  Training Loss: 0.470..  Validation Loss: 0.511..  Training Accuracy: 0.771..  Validation Accuracy: 0.751\n",
      "Epoch: 1500/2000..  Training Loss: 0.465..  Validation Loss: 0.505..  Training Accuracy: 0.777..  Validation Accuracy: 0.759\n",
      "Epoch: 1550/2000..  Training Loss: 0.462..  Validation Loss: 0.506..  Training Accuracy: 0.773..  Validation Accuracy: 0.753\n",
      "Epoch: 1600/2000..  Training Loss: 0.463..  Validation Loss: 0.507..  Training Accuracy: 0.775..  Validation Accuracy: 0.759\n",
      "Epoch: 1650/2000..  Training Loss: 0.461..  Validation Loss: 0.506..  Training Accuracy: 0.776..  Validation Accuracy: 0.757\n",
      "Epoch: 1700/2000..  Training Loss: 0.464..  Validation Loss: 0.505..  Training Accuracy: 0.775..  Validation Accuracy: 0.758\n",
      "Epoch: 1750/2000..  Training Loss: 0.464..  Validation Loss: 0.507..  Training Accuracy: 0.774..  Validation Accuracy: 0.758\n",
      "Epoch: 1800/2000..  Training Loss: 0.465..  Validation Loss: 0.507..  Training Accuracy: 0.775..  Validation Accuracy: 0.754\n",
      "Epoch: 1850/2000..  Training Loss: 0.456..  Validation Loss: 0.505..  Training Accuracy: 0.782..  Validation Accuracy: 0.757\n",
      "Epoch: 1900/2000..  Training Loss: 0.474..  Validation Loss: 0.508..  Training Accuracy: 0.770..  Validation Accuracy: 0.752\n",
      "Epoch: 1950/2000..  Training Loss: 0.458..  Validation Loss: 0.502..  Training Accuracy: 0.780..  Validation Accuracy: 0.758\n",
      "Epoch: 2000/2000..  Training Loss: 0.460..  Validation Loss: 0.501..  Training Accuracy: 0.777..  Validation Accuracy: 0.761\n"
     ]
    }
   ],
   "source": [
    "train_losses, dev_losses, train_acc, dev_acc= [], [], [], []\n",
    "x_axis = []\n",
    "\n",
    "for e in range(1, epochs + 1):\n",
    "    X_, y_ = shuffle(X_train, y_train)\n",
    "    running_loss = 0\n",
    "    running_acc = 0\n",
    "    iterations = 0\n",
    "    \n",
    "    for i in range(0, len(X_), batch_size):\n",
    "        iterations += 1\n",
    "        b = i + batch_size\n",
    "        X_batch = torch.tensor(X_.iloc[i:b,:].values).float()\n",
    "        y_batch = torch.tensor(y_.iloc[i:b].values)\n",
    "        \n",
    "        log_ps = model(X_batch)\n",
    "        loss = criterion(log_ps, y_batch)\n",
    "        optimizer.zero_grad()\n",
    "        loss.backward()\n",
    "        optimizer.step()\n",
    "        \n",
    "        running_loss += loss.item()\n",
    "        ps = torch.exp(log_ps)\n",
    "        top_p, top_class = ps.topk(1, dim=1)\n",
    "        running_acc += accuracy_score(y_batch, top_class)\n",
    "        \n",
    "    dev_loss = 0\n",
    "    acc = 0\n",
    "\n",
    "    # Turn off gradients for validation, saves memory and computations\n",
    "    with torch.no_grad():\n",
    "        model.eval()\n",
    "        log_dev = model(X_dev_torch)\n",
    "        dev_loss = criterion(log_dev, y_dev_torch)\n",
    "\n",
    "        ps_dev = torch.exp(log_dev)\n",
    "        top_p, top_class_dev = ps_dev.topk(1, dim=1)\n",
    "        acc = accuracy_score(y_dev_torch, top_class_dev)\n",
    "        \n",
    "    model.train()\n",
    "\n",
    "    if e%50 == 0 or e == 1:\n",
    "        x_axis.append(e)\n",
    "        \n",
    "        train_losses.append(running_loss/iterations)\n",
    "        dev_losses.append(dev_loss)\n",
    "        train_acc.append(running_acc/iterations)\n",
    "        dev_acc.append(acc)\n",
    "        \n",
    "        print(\"Epoch: {}/{}.. \".format(e, epochs),\n",
    "              \"Training Loss: {:.3f}.. \".format(running_loss/iterations),\n",
    "              \"Validation Loss: {:.3f}.. \".format(dev_loss),\n",
    "              \"Training Accuracy: {:.3f}.. \".format(running_acc/iterations),\n",
    "              \"Validation Accuracy: {:.3f}\".format(acc))"
   ]
  },
  {
   "cell_type": "code",
   "execution_count": 24,
   "metadata": {},
   "outputs": [
    {
     "data": {
      "image/png": "[encoded data removed]",
      "text/plain": [
       "<Figure size 432x288 with 1 Axes>"
      ]
     },
     "metadata": {
      "needs_background": "light"
     },
     "output_type": "display_data"
    }
   ],
   "source": [
    "plt.plot(x_axis,train_losses, label='Training loss')\n",
    "plt.plot(x_axis, dev_losses, label='Validation loss')\n",
    "plt.legend(frameon=False)\n",
    "plt.show()"
   ]
  },
  {
   "cell_type": "code",
   "execution_count": 25,
   "metadata": {},
   "outputs": [
    {
     "data": {
      "image/png": "[encoded data removed]",
      "text/plain": [
       "<Figure size 432x288 with 1 Axes>"
      ]
     },
     "metadata": {
      "needs_background": "light"
     },
     "output_type": "display_data"
    }
   ],
   "source": [
    "plt.plot(x_axis, train_acc, label=\"Training accuracy\")\n",
    "plt.plot(x_axis, dev_acc, label=\"Validation accuracy\")\n",
    "plt.legend(frameon=False)\n",
    "plt.show()"
   ]
  },
  {
   "cell_type": "markdown",
   "metadata": {},
   "source": [
    "### After several fine-tuning approaches"
   ]
  },
  {
   "cell_type": "code",
   "execution_count": 26,
   "metadata": {},
   "outputs": [],
   "source": [
    "class Classifier(nn.Module):\n",
    "    def __init__(self, input_size):\n",
    "        super().__init__()\n",
    "        self.hidden_1 = nn.Linear(input_size, 100)\n",
    "        self.hidden_2 = nn.Linear(100, 100)\n",
    "        self.hidden_3 = nn.Linear(100, 50)\n",
    "        self.hidden_4 = nn.Linear(50,50)\n",
    "        self.output = nn.Linear(50, 2)\n",
    "        \n",
    "        self.dropout = nn.Dropout(p=0.1)\n",
    "        \n",
    "    def forward(self, x):\n",
    "        z = self.dropout(F.relu(self.hidden_1(x)))\n",
    "        z = self.dropout(F.relu(self.hidden_2(z)))\n",
    "        z = self.dropout(F.relu(self.hidden_3(z)))\n",
    "        z = self.dropout(F.relu(self.hidden_4(z)))\n",
    "        out = F.log_softmax(self.output(z), dim=1)\n",
    "        \n",
    "        return out"
   ]
  },
  {
   "cell_type": "code",
   "execution_count": 27,
   "metadata": {},
   "outputs": [],
   "source": [
    "model = Classifier(X_train.shape[1])\n",
    "criterion = nn.NLLLoss()\n",
    "optimizer = optim.Adam(model.parameters(), lr=0.001)\n",
    "\n",
    "epochs = 4000\n",
    "batch_size = 128"
   ]
  },
  {
   "cell_type": "code",
   "execution_count": 28,
   "metadata": {},
   "outputs": [
    {
     "name": "stdout",
     "output_type": "stream",
     "text": [
      "Epoch: 1/4000..  Training Loss: 0.620..  Validation Loss: 0.589..  Training Accuracy: 0.654..  Validation Accuracy: 0.698\n",
      "Epoch: 50/4000..  Training Loss: 0.527..  Validation Loss: 0.550..  Training Accuracy: 0.735..  Validation Accuracy: 0.722\n",
      "Epoch: 100/4000..  Training Loss: 0.501..  Validation Loss: 0.530..  Training Accuracy: 0.752..  Validation Accuracy: 0.735\n",
      "Epoch: 150/4000..  Training Loss: 0.484..  Validation Loss: 0.519..  Training Accuracy: 0.764..  Validation Accuracy: 0.742\n",
      "Epoch: 200/4000..  Training Loss: 0.472..  Validation Loss: 0.514..  Training Accuracy: 0.770..  Validation Accuracy: 0.748\n",
      "Epoch: 250/4000..  Training Loss: 0.460..  Validation Loss: 0.508..  Training Accuracy: 0.776..  Validation Accuracy: 0.755\n",
      "Epoch: 300/4000..  Training Loss: 0.454..  Validation Loss: 0.508..  Training Accuracy: 0.781..  Validation Accuracy: 0.756\n",
      "Epoch: 350/4000..  Training Loss: 0.442..  Validation Loss: 0.512..  Training Accuracy: 0.784..  Validation Accuracy: 0.757\n",
      "Epoch: 400/4000..  Training Loss: 0.437..  Validation Loss: 0.502..  Training Accuracy: 0.790..  Validation Accuracy: 0.759\n",
      "Epoch: 450/4000..  Training Loss: 0.434..  Validation Loss: 0.506..  Training Accuracy: 0.788..  Validation Accuracy: 0.759\n",
      "Epoch: 500/4000..  Training Loss: 0.424..  Validation Loss: 0.498..  Training Accuracy: 0.797..  Validation Accuracy: 0.774\n",
      "Epoch: 550/4000..  Training Loss: 0.423..  Validation Loss: 0.500..  Training Accuracy: 0.800..  Validation Accuracy: 0.768\n",
      "Epoch: 600/4000..  Training Loss: 0.423..  Validation Loss: 0.499..  Training Accuracy: 0.799..  Validation Accuracy: 0.768\n",
      "Epoch: 650/4000..  Training Loss: 0.417..  Validation Loss: 0.498..  Training Accuracy: 0.800..  Validation Accuracy: 0.775\n",
      "Epoch: 700/4000..  Training Loss: 0.428..  Validation Loss: 0.499..  Training Accuracy: 0.797..  Validation Accuracy: 0.771\n",
      "Epoch: 750/4000..  Training Loss: 0.418..  Validation Loss: 0.488..  Training Accuracy: 0.801..  Validation Accuracy: 0.776\n",
      "Epoch: 800/4000..  Training Loss: 0.412..  Validation Loss: 0.490..  Training Accuracy: 0.806..  Validation Accuracy: 0.779\n",
      "Epoch: 850/4000..  Training Loss: 0.409..  Validation Loss: 0.489..  Training Accuracy: 0.807..  Validation Accuracy: 0.780\n",
      "Epoch: 900/4000..  Training Loss: 0.407..  Validation Loss: 0.491..  Training Accuracy: 0.810..  Validation Accuracy: 0.778\n",
      "Epoch: 950/4000..  Training Loss: 0.406..  Validation Loss: 0.493..  Training Accuracy: 0.811..  Validation Accuracy: 0.775\n",
      "Epoch: 1000/4000..  Training Loss: 0.398..  Validation Loss: 0.490..  Training Accuracy: 0.816..  Validation Accuracy: 0.784\n",
      "Epoch: 1050/4000..  Training Loss: 0.399..  Validation Loss: 0.487..  Training Accuracy: 0.811..  Validation Accuracy: 0.783\n",
      "Epoch: 1100/4000..  Training Loss: 0.398..  Validation Loss: 0.492..  Training Accuracy: 0.813..  Validation Accuracy: 0.780\n",
      "Epoch: 1150/4000..  Training Loss: 0.399..  Validation Loss: 0.486..  Training Accuracy: 0.812..  Validation Accuracy: 0.785\n",
      "Epoch: 1200/4000..  Training Loss: 0.394..  Validation Loss: 0.486..  Training Accuracy: 0.816..  Validation Accuracy: 0.786\n",
      "Epoch: 1250/4000..  Training Loss: 0.396..  Validation Loss: 0.488..  Training Accuracy: 0.812..  Validation Accuracy: 0.788\n",
      "Epoch: 1300/4000..  Training Loss: 0.396..  Validation Loss: 0.491..  Training Accuracy: 0.812..  Validation Accuracy: 0.784\n",
      "Epoch: 1350/4000..  Training Loss: 0.394..  Validation Loss: 0.478..  Training Accuracy: 0.817..  Validation Accuracy: 0.788\n",
      "Epoch: 1400/4000..  Training Loss: 0.394..  Validation Loss: 0.484..  Training Accuracy: 0.818..  Validation Accuracy: 0.786\n",
      "Epoch: 1450/4000..  Training Loss: 0.390..  Validation Loss: 0.483..  Training Accuracy: 0.818..  Validation Accuracy: 0.789\n",
      "Epoch: 1500/4000..  Training Loss: 0.396..  Validation Loss: 0.478..  Training Accuracy: 0.816..  Validation Accuracy: 0.785\n",
      "Epoch: 1550/4000..  Training Loss: 0.388..  Validation Loss: 0.482..  Training Accuracy: 0.818..  Validation Accuracy: 0.791\n",
      "Epoch: 1600/4000..  Training Loss: 0.382..  Validation Loss: 0.481..  Training Accuracy: 0.820..  Validation Accuracy: 0.792\n",
      "Epoch: 1650/4000..  Training Loss: 0.390..  Validation Loss: 0.479..  Training Accuracy: 0.819..  Validation Accuracy: 0.792\n",
      "Epoch: 1700/4000..  Training Loss: 0.388..  Validation Loss: 0.484..  Training Accuracy: 0.818..  Validation Accuracy: 0.791\n",
      "Epoch: 1750/4000..  Training Loss: 0.380..  Validation Loss: 0.484..  Training Accuracy: 0.823..  Validation Accuracy: 0.791\n",
      "Epoch: 1800/4000..  Training Loss: 0.385..  Validation Loss: 0.477..  Training Accuracy: 0.819..  Validation Accuracy: 0.789\n",
      "Epoch: 1850/4000..  Training Loss: 0.377..  Validation Loss: 0.480..  Training Accuracy: 0.822..  Validation Accuracy: 0.794\n",
      "Epoch: 1900/4000..  Training Loss: 0.381..  Validation Loss: 0.479..  Training Accuracy: 0.825..  Validation Accuracy: 0.794\n",
      "Epoch: 1950/4000..  Training Loss: 0.391..  Validation Loss: 0.485..  Training Accuracy: 0.818..  Validation Accuracy: 0.792\n",
      "Epoch: 2000/4000..  Training Loss: 0.386..  Validation Loss: 0.474..  Training Accuracy: 0.820..  Validation Accuracy: 0.792\n",
      "Epoch: 2050/4000..  Training Loss: 0.387..  Validation Loss: 0.479..  Training Accuracy: 0.818..  Validation Accuracy: 0.793\n",
      "Epoch: 2100/4000..  Training Loss: 0.383..  Validation Loss: 0.478..  Training Accuracy: 0.823..  Validation Accuracy: 0.794\n",
      "Epoch: 2150/4000..  Training Loss: 0.380..  Validation Loss: 0.483..  Training Accuracy: 0.825..  Validation Accuracy: 0.793\n",
      "Epoch: 2200/4000..  Training Loss: 0.375..  Validation Loss: 0.479..  Training Accuracy: 0.823..  Validation Accuracy: 0.799\n",
      "Epoch: 2250/4000..  Training Loss: 0.381..  Validation Loss: 0.480..  Training Accuracy: 0.820..  Validation Accuracy: 0.791\n",
      "Epoch: 2300/4000..  Training Loss: 0.377..  Validation Loss: 0.477..  Training Accuracy: 0.826..  Validation Accuracy: 0.798\n",
      "Epoch: 2350/4000..  Training Loss: 0.373..  Validation Loss: 0.487..  Training Accuracy: 0.829..  Validation Accuracy: 0.787\n",
      "Epoch: 2400/4000..  Training Loss: 0.377..  Validation Loss: 0.477..  Training Accuracy: 0.825..  Validation Accuracy: 0.795\n",
      "Epoch: 2450/4000..  Training Loss: 0.376..  Validation Loss: 0.475..  Training Accuracy: 0.824..  Validation Accuracy: 0.801\n",
      "Epoch: 2500/4000..  Training Loss: 0.376..  Validation Loss: 0.479..  Training Accuracy: 0.826..  Validation Accuracy: 0.795\n",
      "Epoch: 2550/4000..  Training Loss: 0.379..  Validation Loss: 0.479..  Training Accuracy: 0.823..  Validation Accuracy: 0.791\n",
      "Epoch: 2600/4000..  Training Loss: 0.376..  Validation Loss: 0.485..  Training Accuracy: 0.825..  Validation Accuracy: 0.790\n",
      "Epoch: 2650/4000..  Training Loss: 0.372..  Validation Loss: 0.480..  Training Accuracy: 0.826..  Validation Accuracy: 0.792\n",
      "Epoch: 2700/4000..  Training Loss: 0.375..  Validation Loss: 0.474..  Training Accuracy: 0.825..  Validation Accuracy: 0.797\n",
      "Epoch: 2750/4000..  Training Loss: 0.372..  Validation Loss: 0.476..  Training Accuracy: 0.828..  Validation Accuracy: 0.797\n",
      "Epoch: 2800/4000..  Training Loss: 0.378..  Validation Loss: 0.475..  Training Accuracy: 0.827..  Validation Accuracy: 0.796\n",
      "Epoch: 2850/4000..  Training Loss: 0.368..  Validation Loss: 0.476..  Training Accuracy: 0.833..  Validation Accuracy: 0.796\n",
      "Epoch: 2900/4000..  Training Loss: 0.371..  Validation Loss: 0.474..  Training Accuracy: 0.827..  Validation Accuracy: 0.797\n",
      "Epoch: 2950/4000..  Training Loss: 0.371..  Validation Loss: 0.476..  Training Accuracy: 0.827..  Validation Accuracy: 0.796\n",
      "Epoch: 3000/4000..  Training Loss: 0.373..  Validation Loss: 0.475..  Training Accuracy: 0.828..  Validation Accuracy: 0.797\n",
      "Epoch: 3050/4000..  Training Loss: 0.371..  Validation Loss: 0.474..  Training Accuracy: 0.830..  Validation Accuracy: 0.797\n",
      "Epoch: 3100/4000..  Training Loss: 0.370..  Validation Loss: 0.477..  Training Accuracy: 0.829..  Validation Accuracy: 0.793\n",
      "Epoch: 3150/4000..  Training Loss: 0.368..  Validation Loss: 0.466..  Training Accuracy: 0.832..  Validation Accuracy: 0.797\n",
      "Epoch: 3200/4000..  Training Loss: 0.366..  Validation Loss: 0.478..  Training Accuracy: 0.831..  Validation Accuracy: 0.797\n",
      "Epoch: 3250/4000..  Training Loss: 0.370..  Validation Loss: 0.472..  Training Accuracy: 0.829..  Validation Accuracy: 0.794\n"
     ]
    },
    {
     "name": "stdout",
     "output_type": "stream",
     "text": [
      "Epoch: 3300/4000..  Training Loss: 0.371..  Validation Loss: 0.474..  Training Accuracy: 0.832..  Validation Accuracy: 0.794\n",
      "Epoch: 3350/4000..  Training Loss: 0.364..  Validation Loss: 0.470..  Training Accuracy: 0.831..  Validation Accuracy: 0.799\n",
      "Epoch: 3400/4000..  Training Loss: 0.371..  Validation Loss: 0.472..  Training Accuracy: 0.829..  Validation Accuracy: 0.801\n",
      "Epoch: 3450/4000..  Training Loss: 0.366..  Validation Loss: 0.474..  Training Accuracy: 0.830..  Validation Accuracy: 0.798\n",
      "Epoch: 3500/4000..  Training Loss: 0.370..  Validation Loss: 0.468..  Training Accuracy: 0.829..  Validation Accuracy: 0.799\n",
      "Epoch: 3550/4000..  Training Loss: 0.371..  Validation Loss: 0.470..  Training Accuracy: 0.829..  Validation Accuracy: 0.793\n",
      "Epoch: 3600/4000..  Training Loss: 0.363..  Validation Loss: 0.467..  Training Accuracy: 0.834..  Validation Accuracy: 0.801\n",
      "Epoch: 3650/4000..  Training Loss: 0.364..  Validation Loss: 0.474..  Training Accuracy: 0.834..  Validation Accuracy: 0.796\n",
      "Epoch: 3700/4000..  Training Loss: 0.368..  Validation Loss: 0.480..  Training Accuracy: 0.832..  Validation Accuracy: 0.790\n",
      "Epoch: 3750/4000..  Training Loss: 0.367..  Validation Loss: 0.472..  Training Accuracy: 0.831..  Validation Accuracy: 0.800\n",
      "Epoch: 3800/4000..  Training Loss: 0.363..  Validation Loss: 0.473..  Training Accuracy: 0.834..  Validation Accuracy: 0.795\n",
      "Epoch: 3850/4000..  Training Loss: 0.366..  Validation Loss: 0.476..  Training Accuracy: 0.833..  Validation Accuracy: 0.799\n",
      "Epoch: 3900/4000..  Training Loss: 0.366..  Validation Loss: 0.468..  Training Accuracy: 0.834..  Validation Accuracy: 0.797\n",
      "Epoch: 3950/4000..  Training Loss: 0.363..  Validation Loss: 0.469..  Training Accuracy: 0.836..  Validation Accuracy: 0.796\n",
      "Epoch: 4000/4000..  Training Loss: 0.365..  Validation Loss: 0.465..  Training Accuracy: 0.831..  Validation Accuracy: 0.801\n"
     ]
    }
   ],
   "source": [
    "train_losses, dev_losses, train_acc, dev_acc= [], [], [], []\n",
    "x_axis = []\n",
    "\n",
    "for e in range(1, epochs + 1):\n",
    "    X_, y_ = shuffle(X_train, y_train)\n",
    "    running_loss = 0\n",
    "    running_acc = 0\n",
    "    iterations = 0\n",
    "    \n",
    "    for i in range(0, len(X_), batch_size):\n",
    "        iterations += 1\n",
    "        b = i + batch_size\n",
    "        X_batch = torch.tensor(X_.iloc[i:b,:].values).float()\n",
    "        y_batch = torch.tensor(y_.iloc[i:b].values)\n",
    "        \n",
    "        log_ps = model(X_batch)\n",
    "        loss = criterion(log_ps, y_batch)\n",
    "        optimizer.zero_grad()\n",
    "        loss.backward()\n",
    "        optimizer.step()\n",
    "        \n",
    "        running_loss += loss.item()\n",
    "        ps = torch.exp(log_ps)\n",
    "        top_p, top_class = ps.topk(1, dim=1)\n",
    "        running_acc += accuracy_score(y_batch, top_class)\n",
    "        \n",
    "    dev_loss = 0\n",
    "    acc = 0\n",
    "\n",
    "    # Turn off gradients for validation, saves memory and computations\n",
    "    with torch.no_grad():\n",
    "        model.eval()\n",
    "        log_dev = model(X_dev_torch)\n",
    "        dev_loss = criterion(log_dev, y_dev_torch)\n",
    "\n",
    "        ps_dev = torch.exp(log_dev)\n",
    "        top_p, top_class_dev = ps_dev.topk(1, dim=1)\n",
    "        acc = accuracy_score(y_dev_torch, top_class_dev)\n",
    "        \n",
    "    model.train()\n",
    "\n",
    "    if e%50 == 0 or e == 1:\n",
    "        x_axis.append(e)\n",
    "        \n",
    "        train_losses.append(running_loss/iterations)\n",
    "        dev_losses.append(dev_loss)\n",
    "        train_acc.append(running_acc/iterations)\n",
    "        dev_acc.append(acc)\n",
    "        \n",
    "        print(\"Epoch: {}/{}.. \".format(e, epochs),\n",
    "              \"Training Loss: {:.3f}.. \".format(running_loss/iterations),\n",
    "              \"Validation Loss: {:.3f}.. \".format(dev_loss),\n",
    "              \"Training Accuracy: {:.3f}.. \".format(running_acc/iterations),\n",
    "              \"Validation Accuracy: {:.3f}\".format(acc))"
   ]
  },
  {
   "cell_type": "code",
   "execution_count": 29,
   "metadata": {},
   "outputs": [
    {
     "data": {
      "image/png": "[encoded data removed]",
      "text/plain": [
       "<Figure size 432x288 with 1 Axes>"
      ]
     },
     "metadata": {
      "needs_background": "light"
     },
     "output_type": "display_data"
    }
   ],
   "source": [
    "plt.plot(x_axis,train_losses, label='Training loss')\n",
    "plt.plot(x_axis, dev_losses, label='Validation loss')\n",
    "plt.legend(frameon=False)\n",
    "plt.show()"
   ]
  },
  {
   "cell_type": "code",
   "execution_count": 30,
   "metadata": {},
   "outputs": [
    {
     "data": {
      "image/png": "[encoded data removed]",
      "text/plain": [
       "<Figure size 432x288 with 1 Axes>"
      ]
     },
     "metadata": {
      "needs_background": "light"
     },
     "output_type": "display_data"
    }
   ],
   "source": [
    "plt.plot(x_axis, train_acc, label=\"Training accuracy\")\n",
    "plt.plot(x_axis, dev_acc, label=\"Validation accuracy\")\n",
    "plt.legend(frameon=False)\n",
    "plt.show()"
   ]
  },
  {
   "cell_type": "code",
   "execution_count": 31,
   "metadata": {},
   "outputs": [
    {
     "name": "stdout",
     "output_type": "stream",
     "text": [
      "0.8105071688422855\n"
     ]
    }
   ],
   "source": [
    "model.eval()\n",
    "test_pred = model(X_test_torch)\n",
    "test_pred = torch.exp(test_pred)\n",
    "top_p, top_class_test = test_pred.topk(1, dim=1)\n",
    "acc_test = accuracy_score(y_test_torch, top_class_test)\n",
    "print(acc_test)"
   ]
  },
  {
   "cell_type": "markdown",
   "metadata": {},
   "source": [
    "## ACTIVITY 3"
   ]
  },
  {
   "cell_type": "code",
   "execution_count": 32,
   "metadata": {},
   "outputs": [],
   "source": [
    "checkpoint = {\"input\": X_train.shape[1],\n",
    "              \"state_dict\": model.state_dict()}"
   ]
  },
  {
   "cell_type": "code",
   "execution_count": 33,
   "metadata": {},
   "outputs": [],
   "source": [
    "torch.save(checkpoint, \"checkpoint.pth\")"
   ]
  },
  {
   "cell_type": "code",
   "execution_count": null,
   "metadata": {},
   "outputs": [],
   "source": []
  }
 ],
 "metadata": {
  "kernelspec": {
   "display_name": "Python 3",
   "language": "python",
   "name": "python3"
  },
  "language_info": {
   "codemirror_mode": {
    "name": "ipython",
    "version": 3
   },
   "file_extension": ".py",
   "mimetype": "text/x-python",
   "name": "python",
   "nbconvert_exporter": "python",
   "pygments_lexer": "ipython3",
   "version": "3.7.3"
  }
 },
 "nbformat": 4,
 "nbformat_minor": 2
}
