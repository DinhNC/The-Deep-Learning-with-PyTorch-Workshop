{
 "cells": [
  {
   "cell_type": "code",
   "execution_count": 1,
   "metadata": {},
   "outputs": [
    {
     "data": {
      "text/plain": [
       "<torch._C.Generator at 0x2427fecff10>"
      ]
     },
     "execution_count": 1,
     "metadata": {},
     "output_type": "execute_result"
    }
   ],
   "source": [
    "import pandas as pd\n",
    "import numpy as np\n",
    "from sklearn.model_selection import train_test_split\n",
    "from sklearn.utils import shuffle\n",
    "from sklearn.metrics import accuracy_score\n",
    "import torch\n",
    "from torch import nn, optim\n",
    "import torch.nn.functional as F\n",
    "import matplotlib.pyplot as plt\n",
    "torch.manual_seed(0)"
   ]
  },
  {
   "cell_type": "code",
   "execution_count": 2,
   "metadata": {},
   "outputs": [
    {
     "data": {
      "text/html": [
       "<div>\n",
       "<style scoped>\n",
       "    .dataframe tbody tr th:only-of-type {\n",
       "        vertical-align: middle;\n",
       "    }\n",
       "\n",
       "    .dataframe tbody tr th {\n",
       "        vertical-align: top;\n",
       "    }\n",
       "\n",
       "    .dataframe thead th {\n",
       "        text-align: right;\n",
       "    }\n",
       "</style>\n",
       "<table border=\"1\" class=\"dataframe\">\n",
       "  <thead>\n",
       "    <tr style=\"text-align: right;\">\n",
       "      <th></th>\n",
       "      <th>LIMIT_BAL</th>\n",
       "      <th>EDUCATION</th>\n",
       "      <th>MARRIAGE</th>\n",
       "      <th>AGE</th>\n",
       "      <th>PAY_0</th>\n",
       "      <th>PAY_2</th>\n",
       "      <th>PAY_3</th>\n",
       "      <th>PAY_4</th>\n",
       "      <th>PAY_5</th>\n",
       "      <th>PAY_6</th>\n",
       "      <th>...</th>\n",
       "      <th>BILL_AMT4</th>\n",
       "      <th>BILL_AMT5</th>\n",
       "      <th>BILL_AMT6</th>\n",
       "      <th>PAY_AMT1</th>\n",
       "      <th>PAY_AMT2</th>\n",
       "      <th>PAY_AMT3</th>\n",
       "      <th>PAY_AMT4</th>\n",
       "      <th>PAY_AMT5</th>\n",
       "      <th>PAY_AMT6</th>\n",
       "      <th>default payment next month</th>\n",
       "    </tr>\n",
       "  </thead>\n",
       "  <tbody>\n",
       "    <tr>\n",
       "      <th>0</th>\n",
       "      <td>0.080808</td>\n",
       "      <td>0.333333</td>\n",
       "      <td>0.666667</td>\n",
       "      <td>0.224138</td>\n",
       "      <td>0.2</td>\n",
       "      <td>0.2</td>\n",
       "      <td>0.2</td>\n",
       "      <td>0.2</td>\n",
       "      <td>0.2</td>\n",
       "      <td>0.2</td>\n",
       "      <td>...</td>\n",
       "      <td>0.173637</td>\n",
       "      <td>0.095470</td>\n",
       "      <td>0.272928</td>\n",
       "      <td>0.001738</td>\n",
       "      <td>0.000891</td>\n",
       "      <td>0.001116</td>\n",
       "      <td>0.001610</td>\n",
       "      <td>0.002345</td>\n",
       "      <td>0.009458</td>\n",
       "      <td>0</td>\n",
       "    </tr>\n",
       "    <tr>\n",
       "      <th>1</th>\n",
       "      <td>0.040404</td>\n",
       "      <td>0.333333</td>\n",
       "      <td>0.333333</td>\n",
       "      <td>0.275862</td>\n",
       "      <td>0.2</td>\n",
       "      <td>0.2</td>\n",
       "      <td>0.2</td>\n",
       "      <td>0.2</td>\n",
       "      <td>0.2</td>\n",
       "      <td>0.2</td>\n",
       "      <td>...</td>\n",
       "      <td>0.186809</td>\n",
       "      <td>0.109363</td>\n",
       "      <td>0.283685</td>\n",
       "      <td>0.002290</td>\n",
       "      <td>0.001199</td>\n",
       "      <td>0.001339</td>\n",
       "      <td>0.001771</td>\n",
       "      <td>0.002506</td>\n",
       "      <td>0.001892</td>\n",
       "      <td>0</td>\n",
       "    </tr>\n",
       "    <tr>\n",
       "      <th>2</th>\n",
       "      <td>0.040404</td>\n",
       "      <td>0.333333</td>\n",
       "      <td>0.333333</td>\n",
       "      <td>0.620690</td>\n",
       "      <td>0.1</td>\n",
       "      <td>0.2</td>\n",
       "      <td>0.1</td>\n",
       "      <td>0.2</td>\n",
       "      <td>0.2</td>\n",
       "      <td>0.2</td>\n",
       "      <td>...</td>\n",
       "      <td>0.179863</td>\n",
       "      <td>0.099633</td>\n",
       "      <td>0.275681</td>\n",
       "      <td>0.002290</td>\n",
       "      <td>0.021779</td>\n",
       "      <td>0.011160</td>\n",
       "      <td>0.014493</td>\n",
       "      <td>0.001615</td>\n",
       "      <td>0.001284</td>\n",
       "      <td>0</td>\n",
       "    </tr>\n",
       "    <tr>\n",
       "      <th>3</th>\n",
       "      <td>0.040404</td>\n",
       "      <td>0.166667</td>\n",
       "      <td>0.666667</td>\n",
       "      <td>0.275862</td>\n",
       "      <td>0.2</td>\n",
       "      <td>0.2</td>\n",
       "      <td>0.2</td>\n",
       "      <td>0.2</td>\n",
       "      <td>0.2</td>\n",
       "      <td>0.2</td>\n",
       "      <td>...</td>\n",
       "      <td>0.178407</td>\n",
       "      <td>0.100102</td>\n",
       "      <td>0.276367</td>\n",
       "      <td>0.002862</td>\n",
       "      <td>0.001078</td>\n",
       "      <td>0.000733</td>\n",
       "      <td>0.001610</td>\n",
       "      <td>0.002345</td>\n",
       "      <td>0.001513</td>\n",
       "      <td>0</td>\n",
       "    </tr>\n",
       "    <tr>\n",
       "      <th>4</th>\n",
       "      <td>0.494949</td>\n",
       "      <td>0.166667</td>\n",
       "      <td>0.666667</td>\n",
       "      <td>0.137931</td>\n",
       "      <td>0.2</td>\n",
       "      <td>0.2</td>\n",
       "      <td>0.2</td>\n",
       "      <td>0.2</td>\n",
       "      <td>0.2</td>\n",
       "      <td>0.2</td>\n",
       "      <td>...</td>\n",
       "      <td>0.671310</td>\n",
       "      <td>0.559578</td>\n",
       "      <td>0.625196</td>\n",
       "      <td>0.062961</td>\n",
       "      <td>0.023749</td>\n",
       "      <td>0.042409</td>\n",
       "      <td>0.032591</td>\n",
       "      <td>0.032237</td>\n",
       "      <td>0.026047</td>\n",
       "      <td>0</td>\n",
       "    </tr>\n",
       "  </tbody>\n",
       "</table>\n",
       "<p>5 rows × 23 columns</p>\n",
       "</div>"
      ],
      "text/plain": [
       "   LIMIT_BAL  EDUCATION  MARRIAGE       AGE  PAY_0  PAY_2  PAY_3  PAY_4  \\\n",
       "0   0.080808   0.333333  0.666667  0.224138    0.2    0.2    0.2    0.2   \n",
       "1   0.040404   0.333333  0.333333  0.275862    0.2    0.2    0.2    0.2   \n",
       "2   0.040404   0.333333  0.333333  0.620690    0.1    0.2    0.1    0.2   \n",
       "3   0.040404   0.166667  0.666667  0.275862    0.2    0.2    0.2    0.2   \n",
       "4   0.494949   0.166667  0.666667  0.137931    0.2    0.2    0.2    0.2   \n",
       "\n",
       "   PAY_5  PAY_6  ...  BILL_AMT4  BILL_AMT5  BILL_AMT6  PAY_AMT1  PAY_AMT2  \\\n",
       "0    0.2    0.2  ...   0.173637   0.095470   0.272928  0.001738  0.000891   \n",
       "1    0.2    0.2  ...   0.186809   0.109363   0.283685  0.002290  0.001199   \n",
       "2    0.2    0.2  ...   0.179863   0.099633   0.275681  0.002290  0.021779   \n",
       "3    0.2    0.2  ...   0.178407   0.100102   0.276367  0.002862  0.001078   \n",
       "4    0.2    0.2  ...   0.671310   0.559578   0.625196  0.062961  0.023749   \n",
       "\n",
       "   PAY_AMT3  PAY_AMT4  PAY_AMT5  PAY_AMT6  default payment next month  \n",
       "0  0.001116  0.001610  0.002345  0.009458                           0  \n",
       "1  0.001339  0.001771  0.002506  0.001892                           0  \n",
       "2  0.011160  0.014493  0.001615  0.001284                           0  \n",
       "3  0.000733  0.001610  0.002345  0.001513                           0  \n",
       "4  0.042409  0.032591  0.032237  0.026047                           0  \n",
       "\n",
       "[5 rows x 23 columns]"
      ]
     },
     "execution_count": 2,
     "metadata": {},
     "output_type": "execute_result"
    }
   ],
   "source": [
    "data = pd.read_csv(\"dccc_prepared.csv\")\n",
    "data.head()"
   ]
  },
  {
   "cell_type": "code",
   "execution_count": 3,
   "metadata": {},
   "outputs": [],
   "source": [
    "X = data.iloc[:,:-1]\n",
    "y = data[\"default payment next month\"]"
   ]
  },
  {
   "cell_type": "code",
   "execution_count": 4,
   "metadata": {},
   "outputs": [],
   "source": [
    "X_new, X_test, y_new, y_test = train_test_split(X, y, test_size=0.2, random_state=0)\n",
    "dev_per = X_test.shape[0]/X_new.shape[0]\n",
    "X_train, X_dev, y_train, y_dev = train_test_split(X_new, y_new, test_size=dev_per, random_state=0)"
   ]
  },
  {
   "cell_type": "code",
   "execution_count": 5,
   "metadata": {},
   "outputs": [
    {
     "name": "stdout",
     "output_type": "stream",
     "text": [
      "Training sets: (28036, 22) (28036,)\n",
      "Validation sets: (9346, 22) (9346,)\n",
      "Testing sets: (9346, 22) (9346,)\n"
     ]
    }
   ],
   "source": [
    "print(\"Training sets:\",X_train.shape, y_train.shape)\n",
    "print(\"Validation sets:\",X_dev.shape, y_dev.shape)\n",
    "print(\"Testing sets:\",X_test.shape, y_test.shape)"
   ]
  },
  {
   "cell_type": "code",
   "execution_count": 6,
   "metadata": {},
   "outputs": [],
   "source": [
    "X_dev_torch = torch.tensor(X_dev.values).float()\n",
    "y_dev_torch = torch.tensor(y_dev.values)\n",
    "X_test_torch = torch.tensor(X_test.values).float()\n",
    "y_test_torch = torch.tensor(y_test.values)"
   ]
  },
  {
   "cell_type": "code",
   "execution_count": 7,
   "metadata": {},
   "outputs": [],
   "source": [
    "class Classifier(nn.Module):\n",
    "    def __init__(self, input_size):\n",
    "        super().__init__()\n",
    "        self.hidden_1 = nn.Linear(input_size, 10)\n",
    "        self.hidden_2 = nn.Linear(10, 10)\n",
    "        self.hidden_3 = nn.Linear(10, 10)\n",
    "        self.output = nn.Linear(10, 2)\n",
    "        \n",
    "    def forward(self, x):\n",
    "        z = F.relu(self.hidden_1(x))\n",
    "        z = F.relu(self.hidden_2(z))\n",
    "        z = F.relu(self.hidden_3(z))\n",
    "        out = F.log_softmax(self.output(z), dim=1)\n",
    "        \n",
    "        return out"
   ]
  },
  {
   "cell_type": "code",
   "execution_count": 8,
   "metadata": {},
   "outputs": [],
   "source": [
    "model = Classifier(X_train.shape[1])\n",
    "criterion = nn.NLLLoss()\n",
    "optimizer = optim.Adam(model.parameters(), lr=0.001)\n",
    "\n",
    "epochs = 50\n",
    "batch_size = 128"
   ]
  },
  {
   "cell_type": "code",
   "execution_count": 9,
   "metadata": {},
   "outputs": [
    {
     "name": "stdout",
     "output_type": "stream",
     "text": [
      "Epoch: 1/50..  Training Loss: 0.672..  Validation Loss: 0.628..  Training Accuracy: 0.573..  Validation Accuracy: 0.639\n",
      "Epoch: 2/50..  Training Loss: 0.618..  Validation Loss: 0.609..  Training Accuracy: 0.667..  Validation Accuracy: 0.672\n",
      "Epoch: 3/50..  Training Loss: 0.604..  Validation Loss: 0.596..  Training Accuracy: 0.683..  Validation Accuracy: 0.689\n",
      "Epoch: 4/50..  Training Loss: 0.588..  Validation Loss: 0.586..  Training Accuracy: 0.698..  Validation Accuracy: 0.700\n",
      "Epoch: 5/50..  Training Loss: 0.582..  Validation Loss: 0.587..  Training Accuracy: 0.704..  Validation Accuracy: 0.692\n",
      "Epoch: 6/50..  Training Loss: 0.580..  Validation Loss: 0.586..  Training Accuracy: 0.704..  Validation Accuracy: 0.692\n",
      "Epoch: 7/50..  Training Loss: 0.578..  Validation Loss: 0.583..  Training Accuracy: 0.706..  Validation Accuracy: 0.698\n",
      "Epoch: 8/50..  Training Loss: 0.577..  Validation Loss: 0.582..  Training Accuracy: 0.705..  Validation Accuracy: 0.697\n",
      "Epoch: 9/50..  Training Loss: 0.576..  Validation Loss: 0.581..  Training Accuracy: 0.705..  Validation Accuracy: 0.698\n",
      "Epoch: 10/50..  Training Loss: 0.575..  Validation Loss: 0.580..  Training Accuracy: 0.707..  Validation Accuracy: 0.697\n",
      "Epoch: 11/50..  Training Loss: 0.575..  Validation Loss: 0.580..  Training Accuracy: 0.703..  Validation Accuracy: 0.698\n",
      "Epoch: 12/50..  Training Loss: 0.574..  Validation Loss: 0.579..  Training Accuracy: 0.706..  Validation Accuracy: 0.697\n",
      "Epoch: 13/50..  Training Loss: 0.573..  Validation Loss: 0.581..  Training Accuracy: 0.707..  Validation Accuracy: 0.699\n",
      "Epoch: 14/50..  Training Loss: 0.573..  Validation Loss: 0.578..  Training Accuracy: 0.705..  Validation Accuracy: 0.699\n",
      "Epoch: 15/50..  Training Loss: 0.571..  Validation Loss: 0.577..  Training Accuracy: 0.706..  Validation Accuracy: 0.701\n",
      "Epoch: 16/50..  Training Loss: 0.570..  Validation Loss: 0.576..  Training Accuracy: 0.709..  Validation Accuracy: 0.701\n",
      "Epoch: 17/50..  Training Loss: 0.573..  Validation Loss: 0.576..  Training Accuracy: 0.707..  Validation Accuracy: 0.700\n",
      "Epoch: 18/50..  Training Loss: 0.570..  Validation Loss: 0.576..  Training Accuracy: 0.708..  Validation Accuracy: 0.700\n",
      "Epoch: 19/50..  Training Loss: 0.568..  Validation Loss: 0.576..  Training Accuracy: 0.710..  Validation Accuracy: 0.703\n",
      "Epoch: 20/50..  Training Loss: 0.569..  Validation Loss: 0.575..  Training Accuracy: 0.708..  Validation Accuracy: 0.703\n",
      "Epoch: 21/50..  Training Loss: 0.569..  Validation Loss: 0.574..  Training Accuracy: 0.708..  Validation Accuracy: 0.699\n",
      "Epoch: 22/50..  Training Loss: 0.566..  Validation Loss: 0.573..  Training Accuracy: 0.710..  Validation Accuracy: 0.701\n",
      "Epoch: 23/50..  Training Loss: 0.567..  Validation Loss: 0.574..  Training Accuracy: 0.709..  Validation Accuracy: 0.701\n",
      "Epoch: 24/50..  Training Loss: 0.567..  Validation Loss: 0.573..  Training Accuracy: 0.708..  Validation Accuracy: 0.701\n",
      "Epoch: 25/50..  Training Loss: 0.565..  Validation Loss: 0.574..  Training Accuracy: 0.710..  Validation Accuracy: 0.700\n",
      "Epoch: 26/50..  Training Loss: 0.564..  Validation Loss: 0.575..  Training Accuracy: 0.712..  Validation Accuracy: 0.704\n",
      "Epoch: 27/50..  Training Loss: 0.563..  Validation Loss: 0.573..  Training Accuracy: 0.711..  Validation Accuracy: 0.703\n",
      "Epoch: 28/50..  Training Loss: 0.563..  Validation Loss: 0.571..  Training Accuracy: 0.711..  Validation Accuracy: 0.701\n",
      "Epoch: 29/50..  Training Loss: 0.563..  Validation Loss: 0.572..  Training Accuracy: 0.710..  Validation Accuracy: 0.702\n",
      "Epoch: 30/50..  Training Loss: 0.562..  Validation Loss: 0.570..  Training Accuracy: 0.711..  Validation Accuracy: 0.703\n",
      "Epoch: 31/50..  Training Loss: 0.563..  Validation Loss: 0.570..  Training Accuracy: 0.710..  Validation Accuracy: 0.702\n",
      "Epoch: 32/50..  Training Loss: 0.562..  Validation Loss: 0.569..  Training Accuracy: 0.712..  Validation Accuracy: 0.705\n",
      "Epoch: 33/50..  Training Loss: 0.561..  Validation Loss: 0.570..  Training Accuracy: 0.710..  Validation Accuracy: 0.705\n",
      "Epoch: 34/50..  Training Loss: 0.562..  Validation Loss: 0.569..  Training Accuracy: 0.710..  Validation Accuracy: 0.702\n",
      "Epoch: 35/50..  Training Loss: 0.559..  Validation Loss: 0.568..  Training Accuracy: 0.713..  Validation Accuracy: 0.706\n",
      "Epoch: 36/50..  Training Loss: 0.559..  Validation Loss: 0.568..  Training Accuracy: 0.713..  Validation Accuracy: 0.703\n",
      "Epoch: 37/50..  Training Loss: 0.561..  Validation Loss: 0.567..  Training Accuracy: 0.711..  Validation Accuracy: 0.708\n",
      "Epoch: 38/50..  Training Loss: 0.560..  Validation Loss: 0.568..  Training Accuracy: 0.712..  Validation Accuracy: 0.707\n",
      "Epoch: 39/50..  Training Loss: 0.558..  Validation Loss: 0.567..  Training Accuracy: 0.712..  Validation Accuracy: 0.708\n",
      "Epoch: 40/50..  Training Loss: 0.559..  Validation Loss: 0.569..  Training Accuracy: 0.712..  Validation Accuracy: 0.703\n",
      "Epoch: 41/50..  Training Loss: 0.559..  Validation Loss: 0.570..  Training Accuracy: 0.713..  Validation Accuracy: 0.709\n",
      "Epoch: 42/50..  Training Loss: 0.559..  Validation Loss: 0.568..  Training Accuracy: 0.713..  Validation Accuracy: 0.707\n",
      "Epoch: 43/50..  Training Loss: 0.557..  Validation Loss: 0.567..  Training Accuracy: 0.714..  Validation Accuracy: 0.707\n",
      "Epoch: 44/50..  Training Loss: 0.558..  Validation Loss: 0.568..  Training Accuracy: 0.713..  Validation Accuracy: 0.705\n",
      "Epoch: 45/50..  Training Loss: 0.557..  Validation Loss: 0.565..  Training Accuracy: 0.715..  Validation Accuracy: 0.709\n",
      "Epoch: 46/50..  Training Loss: 0.559..  Validation Loss: 0.565..  Training Accuracy: 0.713..  Validation Accuracy: 0.708\n",
      "Epoch: 47/50..  Training Loss: 0.556..  Validation Loss: 0.570..  Training Accuracy: 0.715..  Validation Accuracy: 0.708\n",
      "Epoch: 48/50..  Training Loss: 0.557..  Validation Loss: 0.566..  Training Accuracy: 0.715..  Validation Accuracy: 0.707\n",
      "Epoch: 49/50..  Training Loss: 0.556..  Validation Loss: 0.567..  Training Accuracy: 0.713..  Validation Accuracy: 0.710\n",
      "Epoch: 50/50..  Training Loss: 0.556..  Validation Loss: 0.564..  Training Accuracy: 0.716..  Validation Accuracy: 0.710\n"
     ]
    }
   ],
   "source": [
    "train_losses, dev_losses, train_acc, dev_acc= [], [], [], []\n",
    "\n",
    "for e in range(epochs):\n",
    "    X_, y_ = shuffle(X_train, y_train)\n",
    "    running_loss = 0\n",
    "    running_acc = 0\n",
    "    iterations = 0\n",
    "    \n",
    "    for i in range(0, len(X_), batch_size):\n",
    "        iterations += 1\n",
    "        b = i + batch_size\n",
    "        X_batch = torch.tensor(X_.iloc[i:b,:].values).float()\n",
    "        y_batch = torch.tensor(y_.iloc[i:b].values)\n",
    "        \n",
    "        pred = model(X_batch)\n",
    "        loss = criterion(pred, y_batch)\n",
    "        optimizer.zero_grad()\n",
    "        loss.backward()\n",
    "        optimizer.step()\n",
    "        \n",
    "        running_loss += loss.item()\n",
    "        ps = torch.exp(pred)\n",
    "        top_p, top_class = ps.topk(1, dim=1)\n",
    "        running_acc += accuracy_score(y_batch, top_class)\n",
    "        \n",
    "    dev_loss = 0\n",
    "    acc = 0\n",
    "\n",
    "    # Turn off gradients for validation, saves memory and computations\n",
    "    with torch.no_grad():\n",
    "        pred_dev = model(X_dev_torch)\n",
    "        dev_loss = criterion(pred_dev, y_dev_torch)\n",
    "\n",
    "        ps_dev = torch.exp(pred_dev)\n",
    "        top_p, top_class_dev = ps_dev.topk(1, dim=1)\n",
    "        acc = accuracy_score(y_dev_torch, top_class_dev)\n",
    "\n",
    "    train_losses.append(running_loss/iterations)\n",
    "    dev_losses.append(dev_loss)\n",
    "    train_acc.append(running_acc/iterations)\n",
    "    dev_acc.append(acc)\n",
    "\n",
    "    print(\"Epoch: {}/{}.. \".format(e+1, epochs),\n",
    "          \"Training Loss: {:.3f}.. \".format(running_loss/iterations),\n",
    "          \"Validation Loss: {:.3f}.. \".format(dev_loss),\n",
    "          \"Training Accuracy: {:.3f}.. \".format(running_acc/iterations),\n",
    "          \"Validation Accuracy: {:.3f}\".format(acc))"
   ]
  },
  {
   "cell_type": "code",
   "execution_count": 10,
   "metadata": {},
   "outputs": [
    {
     "data": {
      "image/png": "[encoded data removed]",
      "text/plain": [
       "<Figure size 432x288 with 1 Axes>"
      ]
     },
     "metadata": {
      "needs_background": "light"
     },
     "output_type": "display_data"
    }
   ],
   "source": [
    "plt.plot(train_losses, label='Training loss')\n",
    "plt.plot(dev_losses, label='Validation loss')\n",
    "plt.legend(frameon=False)\n",
    "plt.show()"
   ]
  },
  {
   "cell_type": "code",
   "execution_count": 11,
   "metadata": {},
   "outputs": [
    {
     "data": {
      "image/png": "[encoded data removed]",
      "text/plain": [
       "<Figure size 432x288 with 1 Axes>"
      ]
     },
     "metadata": {
      "needs_background": "light"
     },
     "output_type": "display_data"
    }
   ],
   "source": [
    "plt.plot(train_acc, label=\"Training accuracy\")\n",
    "plt.plot(dev_acc, label=\"Validation accuracy\")\n",
    "plt.legend(frameon=False)\n",
    "plt.show()"
   ]
  },
  {
   "cell_type": "code",
   "execution_count": null,
   "metadata": {},
   "outputs": [],
   "source": []
  }
 ],
 "metadata": {
  "kernelspec": {
   "display_name": "Python 3",
   "language": "python",
   "name": "python3"
  },
  "language_info": {
   "codemirror_mode": {
    "name": "ipython",
    "version": 3
   },
   "file_extension": ".py",
   "mimetype": "text/x-python",
   "name": "python",
   "nbconvert_exporter": "python",
   "pygments_lexer": "ipython3",
   "version": "3.7.3"
  }
 },
 "nbformat": 4,
 "nbformat_minor": 2
}
